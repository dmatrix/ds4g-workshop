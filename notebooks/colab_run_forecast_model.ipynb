{
  "nbformat": 4,
  "nbformat_minor": 0,
  "metadata": {
    "kernelspec": {
      "display_name": "Python 3",
      "language": "python",
      "name": "python3"
    },
    "language_info": {
      "codemirror_mode": {
        "name": "ipython",
        "version": 3
      },
      "file_extension": ".py",
      "mimetype": "text/x-python",
      "name": "python",
      "nbconvert_exporter": "python",
      "pygments_lexer": "ipython3",
      "version": "3.7.5"
    },
    "colab": {
      "name": "colab_run_forecast_model.ipynb",
      "provenance": [],
      "toc_visible": true
    }
  },
  "cells": [
    {
      "cell_type": "markdown",
      "metadata": {
        "id": "nMuTsRJ3NqqP"
      },
      "source": [
        "# Machine learning application: Forecasting wind power. \n",
        "\n",
        "### Using alternative energy for social & enviromental Good\n",
        "\n",
        "<table>\n",
        "  <tr><td>\n",
        "    <img src=\"https://github.com/dmatrix/mlflow-workshop-part-3/raw/master/images/wind_farm.jpg\"\n",
        "         alt=\"Keras NN Model as Logistic regression\"  width=\"800\">\n",
        "  </td></tr>\n",
        "</table>\n",
        "\n",
        "In this notebook, we will use the MLflow Model Registry to build a machine learning application that forecasts the daily power output of a [wind farm](https://en.wikipedia.org/wiki/Wind_farm). \n",
        "\n",
        "Wind farm power output depends on weather conditions: generally, more energy is produced at higher wind speeds. Accordingly, the machine learning models used in the notebook predict power output based on weather forecasts with three features: `wind direction`, `wind speed`, and `air temperature`.\n",
        "\n",
        "* This notebook uses altered data from the [National WIND Toolkit dataset](https://www.nrel.gov/grid/wind-toolkit.html) provided by NREL, which is publicly available and cited as follows:*\n",
        "\n",
        "* Draxl, C., B.M. Hodge, A. Clifton, and J. McCaa. 2015. Overview and Meteorological Validation of the Wind Integration National Dataset Toolkit (Technical Report, NREL/TP-5000-61740). Golden, CO: National Renewable Energy Laboratory.*\n",
        "\n",
        "* Draxl, C., B.M. Hodge, A. Clifton, and J. McCaa. 2015. \"The Wind Integration National Dataset (WIND) Toolkit.\" Applied Energy 151: 355366.*\n",
        "\n",
        "* Lieberman-Cribbin, W., C. Draxl, and A. Clifton. 2014. Guide to Using the WIND Toolkit Validation Code (Technical Report, NREL/TP-5000-62595). Golden, CO: National Renewable Energy Laboratory.*\n",
        "\n",
        "* King, J., A. Clifton, and B.M. Hodge. 2014. Validation of Power Output for the WIND Toolkit (Technical Report, NREL/TP-5D00-61714). Golden, CO: National Renewable Energy Laboratory.*\n",
        "\n",
        "Googl's Deep publised a [AI for Social Good: 7 Inspiring Examples](https://www.springboard.com/blog/ai-for-good/) blog. One of example was\n",
        "how Wind Farms can predict expected power ouput based on wind conditions and temperature, hence mitigating the burden from consuming\n",
        "energy from fossil fuels. \n",
        "\n",
        "<table>\n",
        "  <tr><td>\n",
        "    <img src=\"https://github.com/dmatrix/ds4g-workshop/raw/master/notebooks/images/deepmind_system-windpower.gif\"\n",
        "         alt=\"Deep Mind ML Wind Power\"  width=\"400\">\n",
        "    <img src=\"https://github.com/dmatrix/ds4g-workshop/raw/master/notebooks/images/machine_learning-value_wind_energy.max-1000x1000.png\"\n",
        "         alt=\"Deep Mind ML Wind Power\"  width=\"400\">\n",
        "  </td></tr>\n",
        "</table>\n"
      ]
    },
    {
      "cell_type": "markdown",
      "metadata": {
        "id": "Hfrx5cHCNqqQ"
      },
      "source": [
        "### Classes and Utility functions"
      ]
    },
    {
      "cell_type": "code",
      "metadata": {
        "id": "-gPaijS4NqqR",
        "outputId": "2d700983-db9b-4100-c840-1c9362d307a6",
        "colab": {
          "base_uri": "https://localhost:8080/",
          "height": 1000
        }
      },
      "source": [
        "!pip install mlflow\n",
        "!pip install scikit-learn"
      ],
      "execution_count": 1,
      "outputs": [
        {
          "output_type": "stream",
          "text": [
            "Collecting mlflow\n",
            "\u001b[?25l  Downloading https://files.pythonhosted.org/packages/aa/2d/7fa1f6e310ded489d943ea20cd7977a9867cb8d81b526d9c9460ce4a5b39/mlflow-1.11.0-py3-none-any.whl (13.9MB)\n",
            "\u001b[K     |████████████████████████████████| 13.9MB 284kB/s \n",
            "\u001b[?25hRequirement already satisfied: python-dateutil in /usr/local/lib/python3.6/dist-packages (from mlflow) (2.8.1)\n",
            "Requirement already satisfied: entrypoints in /usr/local/lib/python3.6/dist-packages (from mlflow) (0.3)\n",
            "Requirement already satisfied: pyyaml in /usr/local/lib/python3.6/dist-packages (from mlflow) (3.13)\n",
            "Collecting docker>=4.0.0\n",
            "\u001b[?25l  Downloading https://files.pythonhosted.org/packages/9e/8c/8d42dbd83679483db207535f4fb02dc84325fa78b290f057694b057fcd21/docker-4.3.1-py2.py3-none-any.whl (145kB)\n",
            "\u001b[K     |████████████████████████████████| 153kB 46.6MB/s \n",
            "\u001b[?25hCollecting gorilla\n",
            "  Downloading https://files.pythonhosted.org/packages/e3/56/5a683944cbfc77e429c6f03c636ca50504a785f60ffae91ddd7f5f7bb520/gorilla-0.3.0-py2.py3-none-any.whl\n",
            "Collecting sqlalchemy<=1.3.13\n",
            "\u001b[?25l  Downloading https://files.pythonhosted.org/packages/af/47/35edeb0f86c0b44934c05d961c893e223ef27e79e1f53b5e6f14820ff553/SQLAlchemy-1.3.13.tar.gz (6.0MB)\n",
            "\u001b[K     |████████████████████████████████| 6.0MB 46.9MB/s \n",
            "\u001b[?25hCollecting databricks-cli>=0.8.7\n",
            "\u001b[?25l  Downloading https://files.pythonhosted.org/packages/04/14/2a87ce410e9f6f93d6346b552f96416927d035c8c80fbbf4b0828c4580a7/databricks-cli-0.12.0.tar.gz (53kB)\n",
            "\u001b[K     |████████████████████████████████| 61kB 7.3MB/s \n",
            "\u001b[?25hRequirement already satisfied: protobuf>=3.6.0 in /usr/local/lib/python3.6/dist-packages (from mlflow) (3.12.4)\n",
            "Requirement already satisfied: six>=1.10.0 in /usr/local/lib/python3.6/dist-packages (from mlflow) (1.15.0)\n",
            "Requirement already satisfied: cloudpickle in /usr/local/lib/python3.6/dist-packages (from mlflow) (1.3.0)\n",
            "Collecting prometheus-flask-exporter\n",
            "  Downloading https://files.pythonhosted.org/packages/37/45/dde8cc3aace904ae4e7963e7a17e3a21472460a8712b61dc2ddc1f69a55d/prometheus_flask_exporter-0.18.0.tar.gz\n",
            "Collecting alembic<=1.4.1\n",
            "\u001b[?25l  Downloading https://files.pythonhosted.org/packages/e0/e9/359dbb77c35c419df0aedeb1d53e71e7e3f438ff64a8fdb048c907404de3/alembic-1.4.1.tar.gz (1.1MB)\n",
            "\u001b[K     |████████████████████████████████| 1.1MB 44.0MB/s \n",
            "\u001b[?25hCollecting gitpython>=2.1.0\n",
            "\u001b[?25l  Downloading https://files.pythonhosted.org/packages/c0/d7/b2b0672e0331567157adf9281f41ee731c412ee518ca5e6552c27fa73c91/GitPython-3.1.9-py3-none-any.whl (159kB)\n",
            "\u001b[K     |████████████████████████████████| 163kB 46.3MB/s \n",
            "\u001b[?25hCollecting querystring-parser\n",
            "  Downloading https://files.pythonhosted.org/packages/4a/fa/f54f5662e0eababf0c49e92fd94bf178888562c0e7b677c8941bbbcd1bd6/querystring_parser-1.2.4.tar.gz\n",
            "Collecting azure-storage-blob>=12.0\n",
            "\u001b[?25l  Downloading https://files.pythonhosted.org/packages/b8/84/7e51b3e1156bcb89a20b9ec641d4fced4800aa79daac3a403898c32046be/azure_storage_blob-12.5.0-py2.py3-none-any.whl (326kB)\n",
            "\u001b[K     |████████████████████████████████| 327kB 42.9MB/s \n",
            "\u001b[?25hRequirement already satisfied: sqlparse in /usr/local/lib/python3.6/dist-packages (from mlflow) (0.3.1)\n",
            "Collecting gunicorn; platform_system != \"Windows\"\n",
            "\u001b[?25l  Downloading https://files.pythonhosted.org/packages/69/ca/926f7cd3a2014b16870086b2d0fdc84a9e49473c68a8dff8b57f7c156f43/gunicorn-20.0.4-py2.py3-none-any.whl (77kB)\n",
            "\u001b[K     |████████████████████████████████| 81kB 10.6MB/s \n",
            "\u001b[?25hRequirement already satisfied: Flask in /usr/local/lib/python3.6/dist-packages (from mlflow) (1.1.2)\n",
            "Requirement already satisfied: pandas in /usr/local/lib/python3.6/dist-packages (from mlflow) (1.1.2)\n",
            "Requirement already satisfied: numpy in /usr/local/lib/python3.6/dist-packages (from mlflow) (1.18.5)\n",
            "Requirement already satisfied: requests>=2.17.3 in /usr/local/lib/python3.6/dist-packages (from mlflow) (2.23.0)\n",
            "Requirement already satisfied: click>=7.0 in /usr/local/lib/python3.6/dist-packages (from mlflow) (7.1.2)\n",
            "Collecting websocket-client>=0.32.0\n",
            "\u001b[?25l  Downloading https://files.pythonhosted.org/packages/4c/5f/f61b420143ed1c8dc69f9eaec5ff1ac36109d52c80de49d66e0c36c3dfdf/websocket_client-0.57.0-py2.py3-none-any.whl (200kB)\n",
            "\u001b[K     |████████████████████████████████| 204kB 49.7MB/s \n",
            "\u001b[?25hRequirement already satisfied: tabulate>=0.7.7 in /usr/local/lib/python3.6/dist-packages (from databricks-cli>=0.8.7->mlflow) (0.8.7)\n",
            "Collecting tenacity>=6.2.0\n",
            "  Downloading https://files.pythonhosted.org/packages/b5/05/ff089032442058bd3386f9cd991cd88ccac81dca1494d78751621ee35e62/tenacity-6.2.0-py2.py3-none-any.whl\n",
            "Requirement already satisfied: setuptools in /usr/local/lib/python3.6/dist-packages (from protobuf>=3.6.0->mlflow) (50.3.0)\n",
            "Requirement already satisfied: prometheus_client in /usr/local/lib/python3.6/dist-packages (from prometheus-flask-exporter->mlflow) (0.8.0)\n",
            "Collecting Mako\n",
            "\u001b[?25l  Downloading https://files.pythonhosted.org/packages/a6/37/0e706200d22172eb8fa17d68a7ae22dec7631a0a92266634fb518a88a5b2/Mako-1.1.3-py2.py3-none-any.whl (75kB)\n",
            "\u001b[K     |████████████████████████████████| 81kB 9.6MB/s \n",
            "\u001b[?25hCollecting python-editor>=0.3\n",
            "  Downloading https://files.pythonhosted.org/packages/c6/d3/201fc3abe391bbae6606e6f1d598c15d367033332bd54352b12f35513717/python_editor-1.0.4-py3-none-any.whl\n",
            "Collecting gitdb<5,>=4.0.1\n",
            "\u001b[?25l  Downloading https://files.pythonhosted.org/packages/48/11/d1800bca0a3bae820b84b7d813ad1eff15a48a64caea9c823fc8c1b119e8/gitdb-4.0.5-py3-none-any.whl (63kB)\n",
            "\u001b[K     |████████████████████████████████| 71kB 8.3MB/s \n",
            "\u001b[?25hCollecting msrest>=0.6.10\n",
            "\u001b[?25l  Downloading https://files.pythonhosted.org/packages/fa/f5/9e315fe8cb985b0ce052b34bcb767883dc739f46fadb62f05a7e6d6eedbe/msrest-0.6.19-py2.py3-none-any.whl (84kB)\n",
            "\u001b[K     |████████████████████████████████| 92kB 10.1MB/s \n",
            "\u001b[?25hCollecting cryptography>=2.1.4\n",
            "\u001b[?25l  Downloading https://files.pythonhosted.org/packages/33/62/30f6936941d87a5ed72efb24249437824f6b2c953901245b58c91fde2f27/cryptography-3.1.1-cp35-abi3-manylinux2010_x86_64.whl (2.6MB)\n",
            "\u001b[K     |████████████████████████████████| 2.6MB 44.1MB/s \n",
            "\u001b[?25hCollecting azure-core<2.0.0,>=1.6.0\n",
            "\u001b[?25l  Downloading https://files.pythonhosted.org/packages/9c/8c/6463dc620629d71c02f3f1a7dc30aab8e4f1a08ef64726cc3dd4f7949096/azure_core-1.8.1-py2.py3-none-any.whl (121kB)\n",
            "\u001b[K     |████████████████████████████████| 122kB 44.3MB/s \n",
            "\u001b[?25hRequirement already satisfied: itsdangerous>=0.24 in /usr/local/lib/python3.6/dist-packages (from Flask->mlflow) (1.1.0)\n",
            "Requirement already satisfied: Jinja2>=2.10.1 in /usr/local/lib/python3.6/dist-packages (from Flask->mlflow) (2.11.2)\n",
            "Requirement already satisfied: Werkzeug>=0.15 in /usr/local/lib/python3.6/dist-packages (from Flask->mlflow) (1.0.1)\n",
            "Requirement already satisfied: pytz>=2017.2 in /usr/local/lib/python3.6/dist-packages (from pandas->mlflow) (2018.9)\n",
            "Requirement already satisfied: chardet<4,>=3.0.2 in /usr/local/lib/python3.6/dist-packages (from requests>=2.17.3->mlflow) (3.0.4)\n",
            "Requirement already satisfied: urllib3!=1.25.0,!=1.25.1,<1.26,>=1.21.1 in /usr/local/lib/python3.6/dist-packages (from requests>=2.17.3->mlflow) (1.24.3)\n",
            "Requirement already satisfied: idna<3,>=2.5 in /usr/local/lib/python3.6/dist-packages (from requests>=2.17.3->mlflow) (2.10)\n",
            "Requirement already satisfied: certifi>=2017.4.17 in /usr/local/lib/python3.6/dist-packages (from requests>=2.17.3->mlflow) (2020.6.20)\n",
            "Requirement already satisfied: MarkupSafe>=0.9.2 in /usr/local/lib/python3.6/dist-packages (from Mako->alembic<=1.4.1->mlflow) (1.1.1)\n",
            "Collecting smmap<4,>=3.0.1\n",
            "  Downloading https://files.pythonhosted.org/packages/b0/9a/4d409a6234eb940e6a78dfdfc66156e7522262f5f2fecca07dc55915952d/smmap-3.0.4-py2.py3-none-any.whl\n",
            "Requirement already satisfied: requests-oauthlib>=0.5.0 in /usr/local/lib/python3.6/dist-packages (from msrest>=0.6.10->azure-storage-blob>=12.0->mlflow) (1.3.0)\n",
            "Collecting isodate>=0.6.0\n",
            "\u001b[?25l  Downloading https://files.pythonhosted.org/packages/9b/9f/b36f7774ff5ea8e428fdcfc4bb332c39ee5b9362ddd3d40d9516a55221b2/isodate-0.6.0-py2.py3-none-any.whl (45kB)\n",
            "\u001b[K     |████████████████████████████████| 51kB 6.2MB/s \n",
            "\u001b[?25hRequirement already satisfied: cffi!=1.11.3,>=1.8 in /usr/local/lib/python3.6/dist-packages (from cryptography>=2.1.4->azure-storage-blob>=12.0->mlflow) (1.14.3)\n",
            "Requirement already satisfied: oauthlib>=3.0.0 in /usr/local/lib/python3.6/dist-packages (from requests-oauthlib>=0.5.0->msrest>=0.6.10->azure-storage-blob>=12.0->mlflow) (3.1.0)\n",
            "Requirement already satisfied: pycparser in /usr/local/lib/python3.6/dist-packages (from cffi!=1.11.3,>=1.8->cryptography>=2.1.4->azure-storage-blob>=12.0->mlflow) (2.20)\n",
            "Building wheels for collected packages: sqlalchemy, databricks-cli, prometheus-flask-exporter, alembic, querystring-parser\n",
            "  Building wheel for sqlalchemy (setup.py) ... \u001b[?25l\u001b[?25hdone\n",
            "  Created wheel for sqlalchemy: filename=SQLAlchemy-1.3.13-cp36-cp36m-linux_x86_64.whl size=1217160 sha256=76cd391ae0903e2ef9cd6da82ec5f7b23d8b77247905d7375475dec1af42f6f2\n",
            "  Stored in directory: /root/.cache/pip/wheels/b3/35/98/4c9cb3fd63d21d5606b972dd70643769745adf60e622467b71\n",
            "  Building wheel for databricks-cli (setup.py) ... \u001b[?25l\u001b[?25hdone\n",
            "  Created wheel for databricks-cli: filename=databricks_cli-0.12.0-cp36-none-any.whl size=99634 sha256=88faa8e370ba7d0205a0bd10ebe8838b77e07b03706e0d07c932567f14f9b1da\n",
            "  Stored in directory: /root/.cache/pip/wheels/da/9c/3e/394efead2cb8858205486bb34de2646f83416ae0494e4ecc5b\n",
            "  Building wheel for prometheus-flask-exporter (setup.py) ... \u001b[?25l\u001b[?25hdone\n",
            "  Created wheel for prometheus-flask-exporter: filename=prometheus_flask_exporter-0.18.0-cp36-none-any.whl size=17154 sha256=424f0993f1251ffee825406547d5451044cc121411d24dc26473ebee0b870083\n",
            "  Stored in directory: /root/.cache/pip/wheels/52/36/b1/dc7f24d2b5847a17b66ee4a598bab4a18947f614050b0c333f\n",
            "  Building wheel for alembic (setup.py) ... \u001b[?25l\u001b[?25hdone\n",
            "  Created wheel for alembic: filename=alembic-1.4.1-py2.py3-none-any.whl size=158155 sha256=e9a4de830ff0d63285684cffa498b09bf7db3ef1c71fc9a04f87844ef5598812\n",
            "  Stored in directory: /root/.cache/pip/wheels/84/07/f7/12f7370ca47a66030c2edeedcc23dec26ea0ac22dcb4c4a0f3\n",
            "  Building wheel for querystring-parser (setup.py) ... \u001b[?25l\u001b[?25hdone\n",
            "  Created wheel for querystring-parser: filename=querystring_parser-1.2.4-cp36-none-any.whl size=7078 sha256=eda2dbe055171343a9483fe3613380211cc9c74dec8e225ffbd99cf5501b2e35\n",
            "  Stored in directory: /root/.cache/pip/wheels/1e/41/34/23ebf5d1089a9aed847951e0ee375426eb4ad0a7079d88d41e\n",
            "Successfully built sqlalchemy databricks-cli prometheus-flask-exporter alembic querystring-parser\n",
            "Installing collected packages: websocket-client, docker, gorilla, sqlalchemy, tenacity, databricks-cli, prometheus-flask-exporter, Mako, python-editor, alembic, smmap, gitdb, gitpython, querystring-parser, isodate, msrest, cryptography, azure-core, azure-storage-blob, gunicorn, mlflow\n",
            "  Found existing installation: SQLAlchemy 1.3.19\n",
            "    Uninstalling SQLAlchemy-1.3.19:\n",
            "      Successfully uninstalled SQLAlchemy-1.3.19\n",
            "Successfully installed Mako-1.1.3 alembic-1.4.1 azure-core-1.8.1 azure-storage-blob-12.5.0 cryptography-3.1.1 databricks-cli-0.12.0 docker-4.3.1 gitdb-4.0.5 gitpython-3.1.9 gorilla-0.3.0 gunicorn-20.0.4 isodate-0.6.0 mlflow-1.11.0 msrest-0.6.19 prometheus-flask-exporter-0.18.0 python-editor-1.0.4 querystring-parser-1.2.4 smmap-3.0.4 sqlalchemy-1.3.13 tenacity-6.2.0 websocket-client-0.57.0\n",
            "Requirement already satisfied: scikit-learn in /usr/local/lib/python3.6/dist-packages (0.22.2.post1)\n",
            "Requirement already satisfied: joblib>=0.11 in /usr/local/lib/python3.6/dist-packages (from scikit-learn) (0.16.0)\n",
            "Requirement already satisfied: numpy>=1.11.0 in /usr/local/lib/python3.6/dist-packages (from scikit-learn) (1.18.5)\n",
            "Requirement already satisfied: scipy>=0.17.0 in /usr/local/lib/python3.6/dist-packages (from scikit-learn) (1.4.1)\n"
          ],
          "name": "stdout"
        }
      ]
    },
    {
      "cell_type": "code",
      "metadata": {
        "id": "YtR0sEWMNqqV",
        "outputId": "a20f013a-d5d9-4325-dd30-b651c3d5f48a",
        "colab": {
          "base_uri": "https://localhost:8080/",
          "height": 34
        }
      },
      "source": [
        "import pandas as pd\n",
        "import time\n",
        "import warnings\n",
        "import mlflow\n",
        "from mlflow.tracking.client import MlflowClient\n",
        "from mlflow.entities.model_registry.model_version_status import ModelVersionStatus\n",
        "warnings.filterwarnings(\"ignore\")\n",
        "print(\"Using mlflow version {}\".format(mlflow.__version__))"
      ],
      "execution_count": 2,
      "outputs": [
        {
          "output_type": "stream",
          "text": [
            "Using mlflow version 1.11.0\n"
          ],
          "name": "stdout"
        }
      ]
    },
    {
      "cell_type": "code",
      "metadata": {
        "id": "mkqryO17NqqX"
      },
      "source": [
        "class Utils:\n",
        "  @staticmethod\n",
        "  def load_data(path, index_col=0):\n",
        "    df = pd.read_csv(path,index_col=0)\n",
        "    return df\n",
        "  \n",
        "  @staticmethod\n",
        "  def get_training_data(df):\n",
        "    # From 2014 through 2018 and drop the power column since that\n",
        "    # is our dependent variable\n",
        "    \n",
        "    training_data = pd.DataFrame(df[\"2014-01-01\":\"2018-01-01\"])\n",
        "    X = training_data.drop(columns=\"power\")\n",
        "    \n",
        "    # Get our dependent variable values\n",
        "    y = training_data[\"power\"]\n",
        "    return X, y\n",
        "\n",
        "  @staticmethod\n",
        "  def get_validation_data(df):\n",
        "    # From 2018 through 2019 and drop the power column since that\n",
        "    # our dependent variable\n",
        "    \n",
        "    validation_data = pd.DataFrame(df[\"2018-01-01\":\"2019-01-01\"])\n",
        "    X = validation_data.drop(columns=\"power\")\n",
        "    \n",
        "    # Get our dependent variable values\n",
        "    y = validation_data[\"power\"]\n",
        "    return X, y"
      ],
      "execution_count": 3,
      "outputs": []
    },
    {
      "cell_type": "markdown",
      "metadata": {
        "id": "8pw2oUOxNqqZ"
      },
      "source": [
        "### Define our model and utility classes \n",
        "\n",
        "This allows us to use some Python model classes and utility functions"
      ]
    },
    {
      "cell_type": "code",
      "metadata": {
        "id": "1D3-9RepNqqa"
      },
      "source": [
        "import mlflow.sklearn\n",
        "import numpy as np\n",
        "from sklearn.ensemble import RandomForestRegressor\n",
        "from sklearn.metrics import mean_squared_error"
      ],
      "execution_count": 4,
      "outputs": []
    },
    {
      "cell_type": "code",
      "metadata": {
        "id": "KVBsT1QENqqc"
      },
      "source": [
        "class RFRModel():\n",
        "   def __init__(self, params={}):\n",
        "      self.rf = RandomForestRegressor(**params)\n",
        "      self.params = params\n",
        "      self._mse = None\n",
        "      self._rsme = None\n",
        "\n",
        "   @classmethod\n",
        "   def new_instance(cls, params={}):\n",
        "      return cls(params)\n",
        "\n",
        "   @property\n",
        "   def model(self):\n",
        "      return self.rf\n",
        "\n",
        "   @property\n",
        "   def mse(self):\n",
        "      return self._mse\n",
        "\n",
        "   @mse.setter\n",
        "   def mse(self, value):\n",
        "      self._mse = value\n",
        "\n",
        "   @property\n",
        "   def rsme(self):\n",
        "      return self._rsme\n",
        "\n",
        "   @rsme.setter\n",
        "   def rsme(self, value):\n",
        "      self._rsme = value\n",
        "\n",
        "   def mlflow_run(self, X_train, y_train, val_x, val_y, model_name,\n",
        "                  run_name=\"Random Forest Regressor: Power Forecasting Model\",\n",
        "                  register=False, verbose=False):\n",
        "      with mlflow.start_run(run_name=run_name) as run:\n",
        "         # Log all parameters\n",
        "         mlflow.log_params(self.params)\n",
        "\n",
        "         # Train and fit the model\n",
        "         self.rf.fit(X_train, y_train)\n",
        "         y_pred = self.rf.predict(val_x)\n",
        "\n",
        "         # Compute metrics\n",
        "         self._mse = mean_squared_error(y_pred, val_y)\n",
        "         self._rsme = np.sqrt(self._mse)\n",
        "\n",
        "         if verbose:\n",
        "            print(\"Validation MSE: %d\" % self._mse)\n",
        "            print(\"Validation RMSE: %d\" % self._rsme)\n",
        "\n",
        "         # log params and metrics\n",
        "         mlflow.log_params(self.params)\n",
        "         mlflow.log_metric(\"mse\", self._mse)\n",
        "         mlflow.log_metric(\"rmse\", self._rsme)\n",
        "\n",
        "         # Specify the `registered_model_name` parameter of the\n",
        "         # function to register the model with the Model Registry. This automatically\n",
        "         # creates a new model version for each new run\n",
        "         mlflow.sklearn.log_model(\n",
        "            sk_model=self.model,\n",
        "            artifact_path=\"sklearn-model\",\n",
        "            registered_model_name=model_name) if register else mlflow.sklearn.log_model(\n",
        "               sk_model=self.model,\n",
        "               artifact_path=\"sklearn-model\")\n",
        "\n",
        "         run_id = run.info.run_id\n",
        "\n",
        "      return run_id"
      ],
      "execution_count": 5,
      "outputs": []
    },
    {
      "cell_type": "markdown",
      "metadata": {
        "id": "B3qYmG4nNqqe"
      },
      "source": [
        "### Load our training data"
      ]
    },
    {
      "cell_type": "code",
      "metadata": {
        "id": "L7OlkvagNqqe",
        "outputId": "59e4df3a-1147-467e-e98e-5ab92c53b216",
        "colab": {
          "base_uri": "https://localhost:8080/",
          "height": 308
        }
      },
      "source": [
        "csv_path = \"https://raw.githubusercontent.com/dmatrix/ds4g-workshop/master/notebooks/data/windfarm_data.csv\"\n",
        "wind_farm_data = Utils.load_data(csv_path, index_col=0)\n",
        "wind_farm_data.head(5)"
      ],
      "execution_count": 6,
      "outputs": [
        {
          "output_type": "execute_result",
          "data": {
            "text/html": [
              "<div>\n",
              "<style scoped>\n",
              "    .dataframe tbody tr th:only-of-type {\n",
              "        vertical-align: middle;\n",
              "    }\n",
              "\n",
              "    .dataframe tbody tr th {\n",
              "        vertical-align: top;\n",
              "    }\n",
              "\n",
              "    .dataframe thead th {\n",
              "        text-align: right;\n",
              "    }\n",
              "</style>\n",
              "<table border=\"1\" class=\"dataframe\">\n",
              "  <thead>\n",
              "    <tr style=\"text-align: right;\">\n",
              "      <th></th>\n",
              "      <th>temperature_00</th>\n",
              "      <th>wind_direction_00</th>\n",
              "      <th>wind_speed_00</th>\n",
              "      <th>temperature_08</th>\n",
              "      <th>wind_direction_08</th>\n",
              "      <th>wind_speed_08</th>\n",
              "      <th>temperature_16</th>\n",
              "      <th>wind_direction_16</th>\n",
              "      <th>wind_speed_16</th>\n",
              "      <th>power</th>\n",
              "    </tr>\n",
              "  </thead>\n",
              "  <tbody>\n",
              "    <tr>\n",
              "      <th>2014-01-01</th>\n",
              "      <td>4.702022</td>\n",
              "      <td>106.742590</td>\n",
              "      <td>4.743292</td>\n",
              "      <td>7.189482</td>\n",
              "      <td>100.41638</td>\n",
              "      <td>6.593832</td>\n",
              "      <td>8.172301</td>\n",
              "      <td>99.28800</td>\n",
              "      <td>5.967206</td>\n",
              "      <td>1959.3535</td>\n",
              "    </tr>\n",
              "    <tr>\n",
              "      <th>2014-01-02</th>\n",
              "      <td>7.695733</td>\n",
              "      <td>98.036705</td>\n",
              "      <td>6.142715</td>\n",
              "      <td>9.977118</td>\n",
              "      <td>94.03181</td>\n",
              "      <td>4.383676</td>\n",
              "      <td>9.690135</td>\n",
              "      <td>204.25444</td>\n",
              "      <td>1.696528</td>\n",
              "      <td>1266.6239</td>\n",
              "    </tr>\n",
              "    <tr>\n",
              "      <th>2014-01-03</th>\n",
              "      <td>9.608235</td>\n",
              "      <td>274.061200</td>\n",
              "      <td>10.514304</td>\n",
              "      <td>10.840864</td>\n",
              "      <td>242.87563</td>\n",
              "      <td>16.869741</td>\n",
              "      <td>8.991079</td>\n",
              "      <td>250.26830</td>\n",
              "      <td>12.038399</td>\n",
              "      <td>7545.6797</td>\n",
              "    </tr>\n",
              "    <tr>\n",
              "      <th>2014-01-04</th>\n",
              "      <td>6.955563</td>\n",
              "      <td>257.910220</td>\n",
              "      <td>7.189170</td>\n",
              "      <td>5.317223</td>\n",
              "      <td>254.26170</td>\n",
              "      <td>9.069233</td>\n",
              "      <td>3.021174</td>\n",
              "      <td>284.06537</td>\n",
              "      <td>4.590843</td>\n",
              "      <td>3791.0408</td>\n",
              "    </tr>\n",
              "    <tr>\n",
              "      <th>2014-01-05</th>\n",
              "      <td>0.830547</td>\n",
              "      <td>265.394400</td>\n",
              "      <td>4.263086</td>\n",
              "      <td>2.480239</td>\n",
              "      <td>104.79496</td>\n",
              "      <td>3.042063</td>\n",
              "      <td>4.227131</td>\n",
              "      <td>263.41690</td>\n",
              "      <td>3.899182</td>\n",
              "      <td>880.6115</td>\n",
              "    </tr>\n",
              "  </tbody>\n",
              "</table>\n",
              "</div>"
            ],
            "text/plain": [
              "            temperature_00  wind_direction_00  ...  wind_speed_16      power\n",
              "2014-01-01        4.702022         106.742590  ...       5.967206  1959.3535\n",
              "2014-01-02        7.695733          98.036705  ...       1.696528  1266.6239\n",
              "2014-01-03        9.608235         274.061200  ...      12.038399  7545.6797\n",
              "2014-01-04        6.955563         257.910220  ...       4.590843  3791.0408\n",
              "2014-01-05        0.830547         265.394400  ...       3.899182   880.6115\n",
              "\n",
              "[5 rows x 10 columns]"
            ]
          },
          "metadata": {
            "tags": []
          },
          "execution_count": 6
        }
      ]
    },
    {
      "cell_type": "code",
      "metadata": {
        "id": "nzv8dhNcNqqh"
      },
      "source": [
        "X_train, y_train = Utils.get_training_data(wind_farm_data)\n",
        "val_x, val_y = Utils.get_validation_data(wind_farm_data)"
      ],
      "execution_count": 11,
      "outputs": []
    },
    {
      "cell_type": "markdown",
      "metadata": {
        "id": "jfyQLwFBNqqj"
      },
      "source": [
        "### Initialize a set of hyperparameters for the training and try three runs"
      ]
    },
    {
      "cell_type": "code",
      "metadata": {
        "id": "_qBCb0IBNqqk"
      },
      "source": [
        "# Initialize our model hyperparameters\n",
        "params_list = [{\"n_estimators\": 100},\n",
        "               {\"n_estimators\": 200},\n",
        "               {\"n_estimators\": 300}]"
      ],
      "execution_count": 9,
      "outputs": []
    },
    {
      "cell_type": "code",
      "metadata": {
        "id": "vRNU8q2BNqqm",
        "outputId": "19e556e2-3cbb-40b4-b377-0c181f38bd18",
        "colab": {
          "base_uri": "https://localhost:8080/",
          "height": 1000
        }
      },
      "source": [
        "# Train, fit and register our model and iterate over few different tuning parameters\n",
        "# Use sqlite:///mlruns.db as the local store for tracking and registery\n",
        "\n",
        "mlflow.set_tracking_uri(\"sqlite:///mlruns.db\")\n",
        "\n",
        "model_name = \"PowerForecastingModel\"\n",
        "for params in params_list:\n",
        "  rfr = RFRModel.new_instance(params)\n",
        "  print(\"Using paramerts={}\".format(params))\n",
        "  runID = rfr.mlflow_run(X_train, y_train, val_x, val_y, model_name, register=True)\n",
        "  print(\"MLflow run_id={} completed with MSE={} and RMSE={}\".format(runID, rfr.mse, rfr.rsme))"
      ],
      "execution_count": 12,
      "outputs": [
        {
          "output_type": "stream",
          "text": [
            "Using paramerts={'n_estimators': 100}\n"
          ],
          "name": "stdout"
        },
        {
          "output_type": "stream",
          "text": [
            "2020/10/02 02:52:05 INFO mlflow.store.db.utils: Creating initial MLflow database tables...\n",
            "2020/10/02 02:52:05 INFO mlflow.store.db.utils: Updating database tables\n",
            "INFO  [alembic.runtime.migration] Context impl SQLiteImpl.\n",
            "INFO  [alembic.runtime.migration] Will assume non-transactional DDL.\n",
            "INFO  [alembic.runtime.migration] Running upgrade  -> 451aebb31d03, add metric step\n",
            "INFO  [alembic.runtime.migration] Running upgrade 451aebb31d03 -> 90e64c465722, migrate user column to tags\n",
            "INFO  [alembic.runtime.migration] Running upgrade 90e64c465722 -> 181f10493468, allow nulls for metric values\n",
            "INFO  [alembic.runtime.migration] Running upgrade 181f10493468 -> df50e92ffc5e, Add Experiment Tags Table\n",
            "INFO  [alembic.runtime.migration] Running upgrade df50e92ffc5e -> 7ac759974ad8, Update run tags with larger limit\n",
            "INFO  [alembic.runtime.migration] Running upgrade 7ac759974ad8 -> 89d4b8295536, create latest metrics table\n",
            "INFO  [89d4b8295536_create_latest_metrics_table_py] Migration complete!\n",
            "INFO  [alembic.runtime.migration] Running upgrade 89d4b8295536 -> 2b4d017a5e9b, add model registry tables to db\n",
            "INFO  [2b4d017a5e9b_add_model_registry_tables_to_db_py] Adding registered_models and model_versions tables to database.\n",
            "INFO  [2b4d017a5e9b_add_model_registry_tables_to_db_py] Migration complete!\n",
            "INFO  [alembic.runtime.migration] Running upgrade 2b4d017a5e9b -> cfd24bdc0731, Update run status constraint with killed\n",
            "INFO  [alembic.runtime.migration] Running upgrade cfd24bdc0731 -> 0a8213491aaa, drop_duplicate_killed_constraint\n",
            "WARNI [0a8213491aaa_drop_duplicate_killed_constraint_py] Failed to drop check constraint. Dropping check constraints may not be supported by your SQL database. Exception content: No support for ALTER of constraints in SQLite dialectPlease refer to the batch mode feature which allows for SQLite migrations using a copy-and-move strategy.\n",
            "INFO  [alembic.runtime.migration] Running upgrade 0a8213491aaa -> 728d730b5ebd, add registered model tags table\n",
            "INFO  [alembic.runtime.migration] Running upgrade 728d730b5ebd -> 27a6a02d2cf1, add model version tags table\n",
            "INFO  [alembic.runtime.migration] Running upgrade 27a6a02d2cf1 -> 84291f40a231, add run_link to model_version\n",
            "INFO  [alembic.runtime.migration] Context impl SQLiteImpl.\n",
            "INFO  [alembic.runtime.migration] Will assume non-transactional DDL.\n",
            "INFO  [alembic.runtime.migration] Context impl SQLiteImpl.\n",
            "INFO  [alembic.runtime.migration] Will assume non-transactional DDL.\n",
            "INFO  [alembic.runtime.migration] Context impl SQLiteImpl.\n",
            "INFO  [alembic.runtime.migration] Will assume non-transactional DDL.\n",
            "INFO  [alembic.runtime.migration] Context impl SQLiteImpl.\n",
            "INFO  [alembic.runtime.migration] Will assume non-transactional DDL.\n",
            "INFO  [alembic.runtime.migration] Context impl SQLiteImpl.\n",
            "INFO  [alembic.runtime.migration] Will assume non-transactional DDL.\n",
            "INFO  [alembic.runtime.migration] Context impl SQLiteImpl.\n",
            "INFO  [alembic.runtime.migration] Will assume non-transactional DDL.\n",
            "INFO  [alembic.runtime.migration] Context impl SQLiteImpl.\n",
            "INFO  [alembic.runtime.migration] Will assume non-transactional DDL.\n",
            "INFO  [alembic.runtime.migration] Context impl SQLiteImpl.\n",
            "INFO  [alembic.runtime.migration] Will assume non-transactional DDL.\n",
            "Successfully registered model 'PowerForecastingModel'.\n",
            "INFO  [alembic.runtime.migration] Context impl SQLiteImpl.\n",
            "INFO  [alembic.runtime.migration] Will assume non-transactional DDL.\n",
            "Created version '1' of model 'PowerForecastingModel'.\n",
            "INFO  [alembic.runtime.migration] Context impl SQLiteImpl.\n",
            "INFO  [alembic.runtime.migration] Will assume non-transactional DDL.\n",
            "INFO  [alembic.runtime.migration] Context impl SQLiteImpl.\n",
            "INFO  [alembic.runtime.migration] Will assume non-transactional DDL.\n",
            "INFO  [alembic.runtime.migration] Context impl SQLiteImpl.\n",
            "INFO  [alembic.runtime.migration] Will assume non-transactional DDL.\n"
          ],
          "name": "stderr"
        },
        {
          "output_type": "stream",
          "text": [
            "MLflow run_id=e6c521ccdd1e48c0985f2857269602f1 completed with MSE=46965.93214682482 and RMSE=216.71624799914017\n",
            "Using paramerts={'n_estimators': 200}\n"
          ],
          "name": "stdout"
        },
        {
          "output_type": "stream",
          "text": [
            "INFO  [alembic.runtime.migration] Context impl SQLiteImpl.\n",
            "INFO  [alembic.runtime.migration] Will assume non-transactional DDL.\n",
            "INFO  [alembic.runtime.migration] Context impl SQLiteImpl.\n",
            "INFO  [alembic.runtime.migration] Will assume non-transactional DDL.\n",
            "INFO  [alembic.runtime.migration] Context impl SQLiteImpl.\n",
            "INFO  [alembic.runtime.migration] Will assume non-transactional DDL.\n",
            "INFO  [alembic.runtime.migration] Context impl SQLiteImpl.\n",
            "INFO  [alembic.runtime.migration] Will assume non-transactional DDL.\n",
            "INFO  [alembic.runtime.migration] Context impl SQLiteImpl.\n",
            "INFO  [alembic.runtime.migration] Will assume non-transactional DDL.\n",
            "INFO  [alembic.runtime.migration] Context impl SQLiteImpl.\n",
            "INFO  [alembic.runtime.migration] Will assume non-transactional DDL.\n",
            "Registered model 'PowerForecastingModel' already exists. Creating a new version of this model...\n",
            "INFO  [alembic.runtime.migration] Context impl SQLiteImpl.\n",
            "INFO  [alembic.runtime.migration] Will assume non-transactional DDL.\n",
            "Created version '2' of model 'PowerForecastingModel'.\n",
            "INFO  [alembic.runtime.migration] Context impl SQLiteImpl.\n",
            "INFO  [alembic.runtime.migration] Will assume non-transactional DDL.\n",
            "INFO  [alembic.runtime.migration] Context impl SQLiteImpl.\n",
            "INFO  [alembic.runtime.migration] Will assume non-transactional DDL.\n",
            "INFO  [alembic.runtime.migration] Context impl SQLiteImpl.\n",
            "INFO  [alembic.runtime.migration] Will assume non-transactional DDL.\n"
          ],
          "name": "stderr"
        },
        {
          "output_type": "stream",
          "text": [
            "MLflow run_id=1242a6d54186416b8413b6092045c375 completed with MSE=43950.928677343305 and RMSE=209.64476782725416\n",
            "Using paramerts={'n_estimators': 300}\n"
          ],
          "name": "stdout"
        },
        {
          "output_type": "stream",
          "text": [
            "INFO  [alembic.runtime.migration] Context impl SQLiteImpl.\n",
            "INFO  [alembic.runtime.migration] Will assume non-transactional DDL.\n",
            "INFO  [alembic.runtime.migration] Context impl SQLiteImpl.\n",
            "INFO  [alembic.runtime.migration] Will assume non-transactional DDL.\n",
            "INFO  [alembic.runtime.migration] Context impl SQLiteImpl.\n",
            "INFO  [alembic.runtime.migration] Will assume non-transactional DDL.\n",
            "INFO  [alembic.runtime.migration] Context impl SQLiteImpl.\n",
            "INFO  [alembic.runtime.migration] Will assume non-transactional DDL.\n",
            "INFO  [alembic.runtime.migration] Context impl SQLiteImpl.\n",
            "INFO  [alembic.runtime.migration] Will assume non-transactional DDL.\n",
            "INFO  [alembic.runtime.migration] Context impl SQLiteImpl.\n",
            "INFO  [alembic.runtime.migration] Will assume non-transactional DDL.\n",
            "Registered model 'PowerForecastingModel' already exists. Creating a new version of this model...\n",
            "INFO  [alembic.runtime.migration] Context impl SQLiteImpl.\n",
            "INFO  [alembic.runtime.migration] Will assume non-transactional DDL.\n",
            "Created version '3' of model 'PowerForecastingModel'.\n",
            "INFO  [alembic.runtime.migration] Context impl SQLiteImpl.\n",
            "INFO  [alembic.runtime.migration] Will assume non-transactional DDL.\n"
          ],
          "name": "stderr"
        },
        {
          "output_type": "stream",
          "text": [
            "MLflow run_id=50d3238bc0d645a1ac1fda301d63d381 completed with MSE=45135.735167434665 and RMSE=212.45172432210256\n"
          ],
          "name": "stdout"
        }
      ]
    },
    {
      "cell_type": "markdown",
      "metadata": {
        "id": "l7kAhUtoNqqo"
      },
      "source": [
        "# Integrating Model Registry with CI/CD Forecasting Application\n",
        "\n",
        "<table>\n",
        "  <tr><td>\n",
        "    <img src=\"https://github.com/dmatrix/mlflow-workshop-part-3/raw/master/images/forecast_app.png\"\n",
        "         alt=\"Keras NN Model as Logistic regression\"  width=\"800\">\n",
        "  </td></tr>\n",
        "</table>\n",
        "\n",
        "1. Use the model registry fetch different versions of the model\n",
        "2. Score the model\n",
        "3. Select the best scored model\n",
        "4. Promote model to production, after testing\n"
      ]
    },
    {
      "cell_type": "markdown",
      "metadata": {
        "id": "7Ayb5zQfNqqp"
      },
      "source": [
        "### Let's Examine the MLflow UI\n",
        "\n",
        "1. Let's our MLflow UI\n",
        "2. Go to the link printed by `ngrok`below\n",
        " *  https://22345abcxyzz.ngrok.io\n",
        "3. Let's examine some models and start comparing their metrics"
      ]
    },
    {
      "cell_type": "code",
      "metadata": {
        "id": "KYvXUm5ONqqp"
      },
      "source": [
        "# run tracking UI in the background\n",
        "get_ipython().system_raw(\"mlflow ui --backend-store-uri sqlite:///mlruns.db --port 5000 &\")"
      ],
      "execution_count": 13,
      "outputs": []
    },
    {
      "cell_type": "code",
      "metadata": {
        "id": "O-XgJf5uNqqr",
        "outputId": "ff91ce3f-a4a7-45f0-fa33-01c52ad34e7f",
        "colab": {
          "base_uri": "https://localhost:8080/",
          "height": 51
        }
      },
      "source": [
        "# create remote tunnel using ngrok.com to allow local port access\n",
        "# borrowed from https://colab.research.google.com/github/alfozan/MLflow-GBRT-demo/blob/master/MLflow-GBRT-demo.ipynb#scrollTo=4h3bKHMYUIG6\n",
        "!pip install pyngrok --quiet\n",
        "from pyngrok import ngrok\n",
        "\n",
        "# Terminate open tunnels if exist\n",
        "ngrok.kill()\n",
        "\n",
        "# Setting the authtoken (optional)\n",
        "# Get your authtoken from https://dashboard.ngrok.com/auth\n",
        "NGROK_AUTH_TOKEN = \"\"\n",
        "ngrok.set_auth_token(NGROK_AUTH_TOKEN)\n",
        "\n",
        "# Open an HTTPs tunnel on port 5000 for http://localhost:5000\n",
        "public_url = ngrok.connect(port=\"5000\", proto=\"http\", options={\"bind_tls\": True})\n",
        "print(\"MLflow Tracking UI:\", public_url)"
      ],
      "execution_count": 14,
      "outputs": [
        {
          "output_type": "stream",
          "text": [
            "  Building wheel for pyngrok (setup.py) ... \u001b[?25l\u001b[?25hdone\n",
            "MLflow Tracking UI: https://17b20a7441c5.ngrok.io\n"
          ],
          "name": "stdout"
        }
      ]
    },
    {
      "cell_type": "markdown",
      "metadata": {
        "id": "ZRUR-7A9Nqqt"
      },
      "source": [
        "### Define a helper function to load PyFunc model from the registry\n",
        "<table>\n",
        "  <tr><td> Save a Keras Model Flavor and load as PyFunc Flavor</td></tr>\n",
        "  <tr><td>\n",
        "    <img src=\"https://raw.githubusercontent.com/dmatrix/mlflow-workshop-part-2/master/images/models_2.png\"\n",
        "         alt=\"\" width=\"600\">\n",
        "  </td></tr>\n",
        "</table>"
      ]
    },
    {
      "cell_type": "code",
      "metadata": {
        "id": "O2kj_nckNqqu"
      },
      "source": [
        "def score_model(data, model_uri):\n",
        "    model = mlflow.pyfunc.load_model(model_uri)\n",
        "    return model.predict(data)"
      ],
      "execution_count": 15,
      "outputs": []
    },
    {
      "cell_type": "markdown",
      "metadata": {
        "id": "Hfvw0WjGNqqy"
      },
      "source": [
        "### Load scoring data"
      ]
    },
    {
      "cell_type": "code",
      "metadata": {
        "id": "quAfQjruNqqy",
        "outputId": "b93f6902-779d-4490-d0bc-6a251d94671d",
        "colab": {
          "base_uri": "https://localhost:8080/",
          "height": 260
        }
      },
      "source": [
        "# Load the score data\n",
        "score_path = \"https://raw.githubusercontent.com/dmatrix/ds4g-workshop/master/notebooks/data/score_windfarm_data.csv\"\n",
        "score_df = Utils.load_data(score_path, index_col=0)\n",
        "score_df.head()"
      ],
      "execution_count": 16,
      "outputs": [
        {
          "output_type": "execute_result",
          "data": {
            "text/html": [
              "<div>\n",
              "<style scoped>\n",
              "    .dataframe tbody tr th:only-of-type {\n",
              "        vertical-align: middle;\n",
              "    }\n",
              "\n",
              "    .dataframe tbody tr th {\n",
              "        vertical-align: top;\n",
              "    }\n",
              "\n",
              "    .dataframe thead th {\n",
              "        text-align: right;\n",
              "    }\n",
              "</style>\n",
              "<table border=\"1\" class=\"dataframe\">\n",
              "  <thead>\n",
              "    <tr style=\"text-align: right;\">\n",
              "      <th></th>\n",
              "      <th>temperature_00</th>\n",
              "      <th>wind_direction_00</th>\n",
              "      <th>wind_speed_00</th>\n",
              "      <th>temperature_08</th>\n",
              "      <th>wind_direction_08</th>\n",
              "      <th>wind_speed_08</th>\n",
              "      <th>temperature_16</th>\n",
              "      <th>wind_direction_16</th>\n",
              "      <th>wind_speed_16</th>\n",
              "      <th>power</th>\n",
              "    </tr>\n",
              "  </thead>\n",
              "  <tbody>\n",
              "    <tr>\n",
              "      <th>2020-12-27</th>\n",
              "      <td>7.123225</td>\n",
              "      <td>103.176630</td>\n",
              "      <td>8.133746</td>\n",
              "      <td>6.454002</td>\n",
              "      <td>107.793220</td>\n",
              "      <td>6.326991</td>\n",
              "      <td>7.219884</td>\n",
              "      <td>119.070526</td>\n",
              "      <td>3.062219</td>\n",
              "      <td>2621.4760</td>\n",
              "    </tr>\n",
              "    <tr>\n",
              "      <th>2020-12-28</th>\n",
              "      <td>5.376270</td>\n",
              "      <td>118.084330</td>\n",
              "      <td>5.558247</td>\n",
              "      <td>8.118839</td>\n",
              "      <td>116.193535</td>\n",
              "      <td>8.565966</td>\n",
              "      <td>9.307176</td>\n",
              "      <td>120.264430</td>\n",
              "      <td>11.993913</td>\n",
              "      <td>5423.6250</td>\n",
              "    </tr>\n",
              "    <tr>\n",
              "      <th>2020-12-29</th>\n",
              "      <td>8.593436</td>\n",
              "      <td>115.432590</td>\n",
              "      <td>12.181850</td>\n",
              "      <td>8.587968</td>\n",
              "      <td>112.931360</td>\n",
              "      <td>11.970859</td>\n",
              "      <td>8.956771</td>\n",
              "      <td>110.161095</td>\n",
              "      <td>11.301485</td>\n",
              "      <td>9132.1150</td>\n",
              "    </tr>\n",
              "    <tr>\n",
              "      <th>2020-12-30</th>\n",
              "      <td>8.069033</td>\n",
              "      <td>103.169685</td>\n",
              "      <td>9.983466</td>\n",
              "      <td>7.930485</td>\n",
              "      <td>106.045510</td>\n",
              "      <td>6.381556</td>\n",
              "      <td>8.228901</td>\n",
              "      <td>111.602160</td>\n",
              "      <td>4.087358</td>\n",
              "      <td>3667.9927</td>\n",
              "    </tr>\n",
              "  </tbody>\n",
              "</table>\n",
              "</div>"
            ],
            "text/plain": [
              "            temperature_00  wind_direction_00  ...  wind_speed_16      power\n",
              "2020-12-27        7.123225         103.176630  ...       3.062219  2621.4760\n",
              "2020-12-28        5.376270         118.084330  ...      11.993913  5423.6250\n",
              "2020-12-29        8.593436         115.432590  ...      11.301485  9132.1150\n",
              "2020-12-30        8.069033         103.169685  ...       4.087358  3667.9927\n",
              "\n",
              "[4 rows x 10 columns]"
            ]
          },
          "metadata": {
            "tags": []
          },
          "execution_count": 16
        }
      ]
    },
    {
      "cell_type": "code",
      "metadata": {
        "id": "sm2Lvi6NNqq0"
      },
      "source": [
        "# Drop the power column since we are predicting that value\n",
        "actual_power = pd.DataFrame(score_df.power.values, columns=['power'])\n",
        "score = score_df.drop(\"power\", axis=1)"
      ],
      "execution_count": 17,
      "outputs": []
    },
    {
      "cell_type": "code",
      "metadata": {
        "id": "59Q4i6XgNqq2",
        "outputId": "a055fe50-a6aa-48e6-f649-9a75385c83f1",
        "colab": {
          "base_uri": "https://localhost:8080/",
          "height": 206
        }
      },
      "source": [
        "# Formulate the model URI to fetch from the model registery\n",
        "model_uri = \"models:/{}/{}\".format(model_name, 1)\n",
        "\n",
        "# Predict the Power output \n",
        "pred_1 = pd.DataFrame(score_model(score, model_uri), columns=[\"predicted_1\"])\n",
        "pred_1"
      ],
      "execution_count": 18,
      "outputs": [
        {
          "output_type": "stream",
          "text": [
            "INFO  [alembic.runtime.migration] Context impl SQLiteImpl.\n",
            "INFO  [alembic.runtime.migration] Will assume non-transactional DDL.\n"
          ],
          "name": "stderr"
        },
        {
          "output_type": "execute_result",
          "data": {
            "text/html": [
              "<div>\n",
              "<style scoped>\n",
              "    .dataframe tbody tr th:only-of-type {\n",
              "        vertical-align: middle;\n",
              "    }\n",
              "\n",
              "    .dataframe tbody tr th {\n",
              "        vertical-align: top;\n",
              "    }\n",
              "\n",
              "    .dataframe thead th {\n",
              "        text-align: right;\n",
              "    }\n",
              "</style>\n",
              "<table border=\"1\" class=\"dataframe\">\n",
              "  <thead>\n",
              "    <tr style=\"text-align: right;\">\n",
              "      <th></th>\n",
              "      <th>predicted_1</th>\n",
              "    </tr>\n",
              "  </thead>\n",
              "  <tbody>\n",
              "    <tr>\n",
              "      <th>0</th>\n",
              "      <td>2812.240068</td>\n",
              "    </tr>\n",
              "    <tr>\n",
              "      <th>1</th>\n",
              "      <td>5117.829554</td>\n",
              "    </tr>\n",
              "    <tr>\n",
              "      <th>2</th>\n",
              "      <td>8759.650429</td>\n",
              "    </tr>\n",
              "    <tr>\n",
              "      <th>3</th>\n",
              "      <td>3780.905879</td>\n",
              "    </tr>\n",
              "  </tbody>\n",
              "</table>\n",
              "</div>"
            ],
            "text/plain": [
              "   predicted_1\n",
              "0  2812.240068\n",
              "1  5117.829554\n",
              "2  8759.650429\n",
              "3  3780.905879"
            ]
          },
          "metadata": {
            "tags": []
          },
          "execution_count": 18
        }
      ]
    },
    {
      "cell_type": "markdown",
      "metadata": {
        "id": "nn3uwjGXNqq4"
      },
      "source": [
        "#### Combine with the actual power"
      ]
    },
    {
      "cell_type": "code",
      "metadata": {
        "id": "S2L0BDBHNqq5",
        "outputId": "e08ca250-87a1-47fb-f57b-ca13827932de",
        "colab": {
          "base_uri": "https://localhost:8080/",
          "height": 172
        }
      },
      "source": [
        "actual_power[\"predicted_1\"] = pred_1[\"predicted_1\"]\n",
        "actual_power"
      ],
      "execution_count": 19,
      "outputs": [
        {
          "output_type": "execute_result",
          "data": {
            "text/html": [
              "<div>\n",
              "<style scoped>\n",
              "    .dataframe tbody tr th:only-of-type {\n",
              "        vertical-align: middle;\n",
              "    }\n",
              "\n",
              "    .dataframe tbody tr th {\n",
              "        vertical-align: top;\n",
              "    }\n",
              "\n",
              "    .dataframe thead th {\n",
              "        text-align: right;\n",
              "    }\n",
              "</style>\n",
              "<table border=\"1\" class=\"dataframe\">\n",
              "  <thead>\n",
              "    <tr style=\"text-align: right;\">\n",
              "      <th></th>\n",
              "      <th>power</th>\n",
              "      <th>predicted_1</th>\n",
              "    </tr>\n",
              "  </thead>\n",
              "  <tbody>\n",
              "    <tr>\n",
              "      <th>0</th>\n",
              "      <td>2621.4760</td>\n",
              "      <td>2812.240068</td>\n",
              "    </tr>\n",
              "    <tr>\n",
              "      <th>1</th>\n",
              "      <td>5423.6250</td>\n",
              "      <td>5117.829554</td>\n",
              "    </tr>\n",
              "    <tr>\n",
              "      <th>2</th>\n",
              "      <td>9132.1150</td>\n",
              "      <td>8759.650429</td>\n",
              "    </tr>\n",
              "    <tr>\n",
              "      <th>3</th>\n",
              "      <td>3667.9927</td>\n",
              "      <td>3780.905879</td>\n",
              "    </tr>\n",
              "  </tbody>\n",
              "</table>\n",
              "</div>"
            ],
            "text/plain": [
              "       power  predicted_1\n",
              "0  2621.4760  2812.240068\n",
              "1  5423.6250  5117.829554\n",
              "2  9132.1150  8759.650429\n",
              "3  3667.9927  3780.905879"
            ]
          },
          "metadata": {
            "tags": []
          },
          "execution_count": 19
        }
      ]
    },
    {
      "cell_type": "code",
      "metadata": {
        "id": "BIYdWUlbNqq7",
        "outputId": "a5d23a40-d7cb-47f9-bc85-a789b6169f0f",
        "colab": {
          "base_uri": "https://localhost:8080/",
          "height": 206
        }
      },
      "source": [
        "# Formulate the model URI to fetch from the model registery\n",
        "model_uri = \"models:/{}/{}\".format(model_name, 2)\n",
        "\n",
        "# Predict the Power output\n",
        "pred_2 = pd.DataFrame(score_model(score, model_uri), columns=[\"predicted_2\"])\n",
        "pred_2"
      ],
      "execution_count": 20,
      "outputs": [
        {
          "output_type": "stream",
          "text": [
            "INFO  [alembic.runtime.migration] Context impl SQLiteImpl.\n",
            "INFO  [alembic.runtime.migration] Will assume non-transactional DDL.\n"
          ],
          "name": "stderr"
        },
        {
          "output_type": "execute_result",
          "data": {
            "text/html": [
              "<div>\n",
              "<style scoped>\n",
              "    .dataframe tbody tr th:only-of-type {\n",
              "        vertical-align: middle;\n",
              "    }\n",
              "\n",
              "    .dataframe tbody tr th {\n",
              "        vertical-align: top;\n",
              "    }\n",
              "\n",
              "    .dataframe thead th {\n",
              "        text-align: right;\n",
              "    }\n",
              "</style>\n",
              "<table border=\"1\" class=\"dataframe\">\n",
              "  <thead>\n",
              "    <tr style=\"text-align: right;\">\n",
              "      <th></th>\n",
              "      <th>predicted_2</th>\n",
              "    </tr>\n",
              "  </thead>\n",
              "  <tbody>\n",
              "    <tr>\n",
              "      <th>0</th>\n",
              "      <td>2733.872546</td>\n",
              "    </tr>\n",
              "    <tr>\n",
              "      <th>1</th>\n",
              "      <td>5129.438811</td>\n",
              "    </tr>\n",
              "    <tr>\n",
              "      <th>2</th>\n",
              "      <td>8732.131560</td>\n",
              "    </tr>\n",
              "    <tr>\n",
              "      <th>3</th>\n",
              "      <td>3776.891900</td>\n",
              "    </tr>\n",
              "  </tbody>\n",
              "</table>\n",
              "</div>"
            ],
            "text/plain": [
              "   predicted_2\n",
              "0  2733.872546\n",
              "1  5129.438811\n",
              "2  8732.131560\n",
              "3  3776.891900"
            ]
          },
          "metadata": {
            "tags": []
          },
          "execution_count": 20
        }
      ]
    },
    {
      "cell_type": "code",
      "metadata": {
        "id": "IzJ84cFlNqq9",
        "outputId": "176e78fa-987b-4d35-8173-259fb6367211",
        "colab": {
          "base_uri": "https://localhost:8080/",
          "height": 172
        }
      },
      "source": [
        "actual_power[\"predicted_2\"] = pred_2[\"predicted_2\"]\n",
        "actual_power"
      ],
      "execution_count": 21,
      "outputs": [
        {
          "output_type": "execute_result",
          "data": {
            "text/html": [
              "<div>\n",
              "<style scoped>\n",
              "    .dataframe tbody tr th:only-of-type {\n",
              "        vertical-align: middle;\n",
              "    }\n",
              "\n",
              "    .dataframe tbody tr th {\n",
              "        vertical-align: top;\n",
              "    }\n",
              "\n",
              "    .dataframe thead th {\n",
              "        text-align: right;\n",
              "    }\n",
              "</style>\n",
              "<table border=\"1\" class=\"dataframe\">\n",
              "  <thead>\n",
              "    <tr style=\"text-align: right;\">\n",
              "      <th></th>\n",
              "      <th>power</th>\n",
              "      <th>predicted_1</th>\n",
              "      <th>predicted_2</th>\n",
              "    </tr>\n",
              "  </thead>\n",
              "  <tbody>\n",
              "    <tr>\n",
              "      <th>0</th>\n",
              "      <td>2621.4760</td>\n",
              "      <td>2812.240068</td>\n",
              "      <td>2733.872546</td>\n",
              "    </tr>\n",
              "    <tr>\n",
              "      <th>1</th>\n",
              "      <td>5423.6250</td>\n",
              "      <td>5117.829554</td>\n",
              "      <td>5129.438811</td>\n",
              "    </tr>\n",
              "    <tr>\n",
              "      <th>2</th>\n",
              "      <td>9132.1150</td>\n",
              "      <td>8759.650429</td>\n",
              "      <td>8732.131560</td>\n",
              "    </tr>\n",
              "    <tr>\n",
              "      <th>3</th>\n",
              "      <td>3667.9927</td>\n",
              "      <td>3780.905879</td>\n",
              "      <td>3776.891900</td>\n",
              "    </tr>\n",
              "  </tbody>\n",
              "</table>\n",
              "</div>"
            ],
            "text/plain": [
              "       power  predicted_1  predicted_2\n",
              "0  2621.4760  2812.240068  2733.872546\n",
              "1  5423.6250  5117.829554  5129.438811\n",
              "2  9132.1150  8759.650429  8732.131560\n",
              "3  3667.9927  3780.905879  3776.891900"
            ]
          },
          "metadata": {
            "tags": []
          },
          "execution_count": 21
        }
      ]
    },
    {
      "cell_type": "code",
      "metadata": {
        "id": "xE14Su5vNqq_",
        "outputId": "60ee3df6-9669-4f87-9d1e-5cd503f3e13d",
        "colab": {
          "base_uri": "https://localhost:8080/",
          "height": 206
        }
      },
      "source": [
        "# Formulate the model URI to fetch from the model registery\n",
        "model_uri = \"models:/{}/{}\".format(model_name, 3)\n",
        "\n",
        "# Formulate the model URI to fetch from the model registery\n",
        "pred_3 = pd.DataFrame(score_model(score, model_uri), columns=[\"predicted_3\"])\n",
        "pred_3"
      ],
      "execution_count": 22,
      "outputs": [
        {
          "output_type": "stream",
          "text": [
            "INFO  [alembic.runtime.migration] Context impl SQLiteImpl.\n",
            "INFO  [alembic.runtime.migration] Will assume non-transactional DDL.\n"
          ],
          "name": "stderr"
        },
        {
          "output_type": "execute_result",
          "data": {
            "text/html": [
              "<div>\n",
              "<style scoped>\n",
              "    .dataframe tbody tr th:only-of-type {\n",
              "        vertical-align: middle;\n",
              "    }\n",
              "\n",
              "    .dataframe tbody tr th {\n",
              "        vertical-align: top;\n",
              "    }\n",
              "\n",
              "    .dataframe thead th {\n",
              "        text-align: right;\n",
              "    }\n",
              "</style>\n",
              "<table border=\"1\" class=\"dataframe\">\n",
              "  <thead>\n",
              "    <tr style=\"text-align: right;\">\n",
              "      <th></th>\n",
              "      <th>predicted_3</th>\n",
              "    </tr>\n",
              "  </thead>\n",
              "  <tbody>\n",
              "    <tr>\n",
              "      <th>0</th>\n",
              "      <td>2777.903835</td>\n",
              "    </tr>\n",
              "    <tr>\n",
              "      <th>1</th>\n",
              "      <td>5104.583888</td>\n",
              "    </tr>\n",
              "    <tr>\n",
              "      <th>2</th>\n",
              "      <td>8712.419749</td>\n",
              "    </tr>\n",
              "    <tr>\n",
              "      <th>3</th>\n",
              "      <td>3772.113621</td>\n",
              "    </tr>\n",
              "  </tbody>\n",
              "</table>\n",
              "</div>"
            ],
            "text/plain": [
              "   predicted_3\n",
              "0  2777.903835\n",
              "1  5104.583888\n",
              "2  8712.419749\n",
              "3  3772.113621"
            ]
          },
          "metadata": {
            "tags": []
          },
          "execution_count": 22
        }
      ]
    },
    {
      "cell_type": "markdown",
      "metadata": {
        "id": "b94_jNd6NqrB"
      },
      "source": [
        "### Combine the values into a single pandas DataFrame "
      ]
    },
    {
      "cell_type": "code",
      "metadata": {
        "id": "k1JI4vQlNqrB",
        "outputId": "38b064bd-e8a2-4a3e-a5d5-aa7c4b6fba7d",
        "colab": {
          "base_uri": "https://localhost:8080/",
          "height": 172
        }
      },
      "source": [
        "actual_power[\"predicted_3\"] = pred_3[\"predicted_3\"]\n",
        "actual_power"
      ],
      "execution_count": 23,
      "outputs": [
        {
          "output_type": "execute_result",
          "data": {
            "text/html": [
              "<div>\n",
              "<style scoped>\n",
              "    .dataframe tbody tr th:only-of-type {\n",
              "        vertical-align: middle;\n",
              "    }\n",
              "\n",
              "    .dataframe tbody tr th {\n",
              "        vertical-align: top;\n",
              "    }\n",
              "\n",
              "    .dataframe thead th {\n",
              "        text-align: right;\n",
              "    }\n",
              "</style>\n",
              "<table border=\"1\" class=\"dataframe\">\n",
              "  <thead>\n",
              "    <tr style=\"text-align: right;\">\n",
              "      <th></th>\n",
              "      <th>power</th>\n",
              "      <th>predicted_1</th>\n",
              "      <th>predicted_2</th>\n",
              "      <th>predicted_3</th>\n",
              "    </tr>\n",
              "  </thead>\n",
              "  <tbody>\n",
              "    <tr>\n",
              "      <th>0</th>\n",
              "      <td>2621.4760</td>\n",
              "      <td>2812.240068</td>\n",
              "      <td>2733.872546</td>\n",
              "      <td>2777.903835</td>\n",
              "    </tr>\n",
              "    <tr>\n",
              "      <th>1</th>\n",
              "      <td>5423.6250</td>\n",
              "      <td>5117.829554</td>\n",
              "      <td>5129.438811</td>\n",
              "      <td>5104.583888</td>\n",
              "    </tr>\n",
              "    <tr>\n",
              "      <th>2</th>\n",
              "      <td>9132.1150</td>\n",
              "      <td>8759.650429</td>\n",
              "      <td>8732.131560</td>\n",
              "      <td>8712.419749</td>\n",
              "    </tr>\n",
              "    <tr>\n",
              "      <th>3</th>\n",
              "      <td>3667.9927</td>\n",
              "      <td>3780.905879</td>\n",
              "      <td>3776.891900</td>\n",
              "      <td>3772.113621</td>\n",
              "    </tr>\n",
              "  </tbody>\n",
              "</table>\n",
              "</div>"
            ],
            "text/plain": [
              "       power  predicted_1  predicted_2  predicted_3\n",
              "0  2621.4760  2812.240068  2733.872546  2777.903835\n",
              "1  5423.6250  5117.829554  5129.438811  5104.583888\n",
              "2  9132.1150  8759.650429  8732.131560  8712.419749\n",
              "3  3667.9927  3780.905879  3776.891900  3772.113621"
            ]
          },
          "metadata": {
            "tags": []
          },
          "execution_count": 23
        }
      ]
    },
    {
      "cell_type": "code",
      "metadata": {
        "id": "mDfRX86VNqrD",
        "outputId": "693d083d-fd38-4421-e071-7b3956f75906",
        "colab": {
          "base_uri": "https://localhost:8080/",
          "height": 282
        }
      },
      "source": [
        "%matplotlib inline\n",
        "\n",
        "actual_power.plot.line()"
      ],
      "execution_count": 24,
      "outputs": [
        {
          "output_type": "execute_result",
          "data": {
            "text/plain": [
              "<matplotlib.axes._subplots.AxesSubplot at 0x7fc78dd5cf60>"
            ]
          },
          "metadata": {
            "tags": []
          },
          "execution_count": 24
        },
        {
          "output_type": "display_data",
          "data": {
            "image/png": "[encoded data removed]",
            "text/plain": [
              "<Figure size 432x288 with 1 Axes>"
            ]
          },
          "metadata": {
            "tags": [],
            "needs_background": "light"
          }
        }
      ]
    },
    {
      "cell_type": "markdown",
      "metadata": {
        "id": "XbaTHtOFNqrF"
      },
      "source": [
        "### Let's Examine the MLflow UI\n",
        "\n",
        "1. Go to the link printed by `ngrok`above\n",
        " *  https://12345abcxyz.ngrok.io\n",
        "2. Navigate to the Model Registry Page\n",
        "3. Pick a version and transition stage: None->Production\n"
      ]
    }
  ]
}