{
 "cells": [
  {
   "cell_type": "markdown",
   "metadata": {},
   "source": [
    "# MLflow Project: Reproduce or Retrain GitHub Published Models"
   ]
  },
  {
   "cell_type": "code",
   "execution_count": 10,
   "metadata": {},
   "outputs": [],
   "source": [
    "import mlflow"
   ]
  },
  {
   "cell_type": "code",
   "execution_count": 19,
   "metadata": {},
   "outputs": [],
   "source": [
    "params_1 = {\"alpha\": 0.5}\n",
    "git_uri = \"https://github.com/mlflow/mlflow-example\""
   ]
  },
  {
   "cell_type": "code",
   "execution_count": 20,
   "metadata": {},
   "outputs": [],
   "source": [
    "params_2 = {\"batch_size\": 20,  \"epochs\": 200}\n",
    "git_uri_2 = \"https://github.com/dmatrix/mlflow-workshop-project-expamle-1\""
   ]
  },
  {
   "cell_type": "code",
   "execution_count": 23,
   "metadata": {},
   "outputs": [],
   "source": [
    "def run_project(uri, parameters=None):\n",
    "    mlflow.projects.run(uri, parameters=parameters)"
   ]
  },
  {
   "cell_type": "markdown",
   "metadata": {},
   "source": [
    "## Reproduce the first GitHub Project\n",
    "\n",
    "The data set used in this example is from http://archive.ics.uci.edu/ml/datasets/Wine+Quality\n",
    "\n",
    "P. Cortez, A. Cerdeira, F. Almeida, T. Matos and J. Reis.\n",
    "\n",
    "**Problem**: Modeling wine preferences by data mining from physicochemical properties. In Decision Support Systems, Elsevier, 47(4):547-553, 2009.\n",
    "\n",
    "GitHub Project: https://github.com/mlflow/mlflow-example\n"
   ]
  },
  {
   "cell_type": "code",
   "execution_count": 24,
   "metadata": {},
   "outputs": [
    {
     "name": "stderr",
     "output_type": "stream",
     "text": [
      "2020/09/15 13:46:54 INFO mlflow.projects.utils: === Fetching project from https://github.com/mlflow/mlflow-example into /var/folders/jz/qg062ynx5v39wwmfxmph5nn40000gp/T/tmpmfdga0_n ===\n",
      "2020/09/15 13:46:57 INFO mlflow.utils.conda: === Creating conda environment mlflow-1abc00771765dd9dd15731cbda4938c765fbb90b ===\n",
      "2020/09/15 13:48:13 INFO mlflow.projects.utils: === Created directory /var/folders/jz/qg062ynx5v39wwmfxmph5nn40000gp/T/tmpcebq19lj for downloading remote URIs passed to arguments of type 'path' ===\n",
      "2020/09/15 13:48:13 INFO mlflow.projects.backend.local: === Running command 'source /Applications/anaconda3/bin/../etc/profile.d/conda.sh && conda activate mlflow-1abc00771765dd9dd15731cbda4938c765fbb90b 1>&2 && python train.py 0.5 0.1' in run with ID '37d0766d7bab40758942147b01939225' === \n",
      "2020/09/15 13:48:15 INFO mlflow.projects: === Run (ID '37d0766d7bab40758942147b01939225') succeeded ===\n"
     ]
    }
   ],
   "source": [
    "run_project(git_uri, parameters=params_1)"
   ]
  },
  {
   "cell_type": "markdown",
   "metadata": {},
   "source": [
    "## Reproduce the second GitHub Project\n",
    "This example demonstrates how you can package an MLflow Project into GitHub and share it with others to reproduce runs.\n",
    "\n",
    "**Problem**: Build a simple Linear NN Model that predicts Celsius temperaturers from training data with Fahrenheit degree\n",
    "\n",
    "GitHub Project: https://github.com/dmatrix/mlflow-workshop-project-expamle-1"
   ]
  },
  {
   "cell_type": "code",
   "execution_count": 5,
   "metadata": {},
   "outputs": [
    {
     "name": "stderr",
     "output_type": "stream",
     "text": [
      "2020/09/15 12:21:11 INFO mlflow.projects.utils: === Fetching project from https://github.com/dmatrix/mlflow-workshop-project-expamle-1 into /var/folders/jz/qg062ynx5v39wwmfxmph5nn40000gp/T/tmpmvwkq204 ===\n",
      "2020/09/15 12:21:15 INFO mlflow.projects.utils: === Created directory /var/folders/jz/qg062ynx5v39wwmfxmph5nn40000gp/T/tmpjs8ho1sj for downloading remote URIs passed to arguments of type 'path' ===\n",
      "2020/09/15 12:21:15 INFO mlflow.projects.backend.local: === Running command 'source /Applications/anaconda3/bin/../etc/profile.d/conda.sh && conda activate mlflow-05c16d425ce054cc91eb1f13f2cea088d75b5454 1>&2 && python train_keras.py 5 200' in run with ID '7931a7f5edaf4af8b14d53e992c573a5' === \n",
      "2020/09/15 12:25:20 INFO mlflow.projects: === Run (ID '7931a7f5edaf4af8b14d53e992c573a5') succeeded ===\n"
     ]
    },
    {
     "data": {
      "text/plain": [
       "<mlflow.projects.submitted_run.LocalSubmittedRun at 0x11bb9cc10>"
      ]
     },
     "execution_count": 5,
     "metadata": {},
     "output_type": "execute_result"
    }
   ],
   "source": [
    "mlflow.projects.run(git_uri_2, parameters=params_2)"
   ]
  }
 ],
 "metadata": {
  "kernelspec": {
   "display_name": "Python 3",
   "language": "python",
   "name": "python3"
  },
  "language_info": {
   "codemirror_mode": {
    "name": "ipython",
    "version": 3
   },
   "file_extension": ".py",
   "mimetype": "text/x-python",
   "name": "python",
   "nbconvert_exporter": "python",
   "pygments_lexer": "ipython3",
   "version": "3.7.4"
  }
 },
 "nbformat": 4,
 "nbformat_minor": 4
}
