{
 "cells": [
  {
   "cell_type": "code",
   "execution_count": 1,
   "metadata": {},
   "outputs": [],
   "source": [
    "import mlflow"
   ]
  },
  {
   "cell_type": "code",
   "execution_count": 4,
   "metadata": {},
   "outputs": [],
   "source": [
    "params = {\"batch_size\": 20,  \"epochs\": 200}\n",
    "git_uri = \"https://github.com/dmatrix/mlflow-workshop-project-expamle-1\""
   ]
  },
  {
   "cell_type": "code",
   "execution_count": 5,
   "metadata": {},
   "outputs": [
    {
     "name": "stderr",
     "output_type": "stream",
     "text": [
      "2020/09/15 12:21:11 INFO mlflow.projects.utils: === Fetching project from https://github.com/dmatrix/mlflow-workshop-project-expamle-1 into /var/folders/jz/qg062ynx5v39wwmfxmph5nn40000gp/T/tmpmvwkq204 ===\n",
      "2020/09/15 12:21:15 INFO mlflow.projects.utils: === Created directory /var/folders/jz/qg062ynx5v39wwmfxmph5nn40000gp/T/tmpjs8ho1sj for downloading remote URIs passed to arguments of type 'path' ===\n",
      "2020/09/15 12:21:15 INFO mlflow.projects.backend.local: === Running command 'source /Applications/anaconda3/bin/../etc/profile.d/conda.sh && conda activate mlflow-05c16d425ce054cc91eb1f13f2cea088d75b5454 1>&2 && python train_keras.py 5 200' in run with ID '7931a7f5edaf4af8b14d53e992c573a5' === \n",
      "2020/09/15 12:25:20 INFO mlflow.projects: === Run (ID '7931a7f5edaf4af8b14d53e992c573a5') succeeded ===\n"
     ]
    },
    {
     "data": {
      "text/plain": [
       "<mlflow.projects.submitted_run.LocalSubmittedRun at 0x11bb9cc10>"
      ]
     },
     "execution_count": 5,
     "metadata": {},
     "output_type": "execute_result"
    }
   ],
   "source": [
    "mlflow.projects.run(git_uri,parameters=params)"
   ]
  },
  {
   "cell_type": "code",
   "execution_count": null,
   "metadata": {},
   "outputs": [],
   "source": []
  }
 ],
 "metadata": {
  "kernelspec": {
   "display_name": "Python 3",
   "language": "python",
   "name": "python3"
  },
  "language_info": {
   "codemirror_mode": {
    "name": "ipython",
    "version": 3
   },
   "file_extension": ".py",
   "mimetype": "text/x-python",
   "name": "python",
   "nbconvert_exporter": "python",
   "pygments_lexer": "ipython3",
   "version": "3.7.4"
  }
 },
 "nbformat": 4,
 "nbformat_minor": 4
}
