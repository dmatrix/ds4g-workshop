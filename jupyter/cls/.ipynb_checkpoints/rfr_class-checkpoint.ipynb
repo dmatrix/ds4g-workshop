{
 "cells": [
  {
   "cell_type": "code",
   "execution_count": 1,
   "metadata": {},
   "outputs": [],
   "source": [
    "import mlflow.sklearn\n",
    "import numpy as np\n",
    "from sklearn.ensemble import RandomForestRegressor\n",
    "from sklearn.metrics import mean_squared_error"
   ]
  },
  {
   "cell_type": "code",
   "execution_count": 2,
   "metadata": {},
   "outputs": [
    {
     "name": "stderr",
     "output_type": "stream",
     "text": [
      "/Users/julesdamji/.conda/envs/tutorials/lib/python3.7/site-packages/ipykernel/ipkernel.py:287: DeprecationWarning: `should_run_async` will not call `transform_cell` automatically in the future. Please pass the result to `transformed_cell` argument and any exception that happen during thetransform in `preprocessing_exc_tuple` in IPython 7.17 and above.\n",
      "  and should_run_async(code)\n"
     ]
    }
   ],
   "source": [
    "class RFRModel():\n",
    "   def __init__(self, params={}):\n",
    "      self.rf = RandomForestRegressor(**params)\n",
    "      self.params = params\n",
    "      self._mse = None\n",
    "      self._rsme = None\n",
    "\n",
    "   @classmethod\n",
    "   def new_instance(cls, params={}):\n",
    "      return cls(params)\n",
    "\n",
    "   @property\n",
    "   def model(self):\n",
    "      return self.rf\n",
    "\n",
    "   @property\n",
    "   def mse(self):\n",
    "      return self._mse\n",
    "\n",
    "   @mse.setter\n",
    "   def mse(self, value):\n",
    "      self._mse = value\n",
    "\n",
    "   @property\n",
    "   def rsme(self):\n",
    "      return self._rsme\n",
    "\n",
    "   @rsme.setter\n",
    "   def rsme(self, value):\n",
    "      self._rsme = value\n",
    "\n",
    "   def mlflow_run(self, X_train, y_train, val_x, val_y, model_name,\n",
    "                  run_name=\"Random Forest Regressor: Power Forecasting Model\",\n",
    "                  register=False, verbose=False):\n",
    "      with mlflow.start_run(run_name=run_name) as run:\n",
    "         # Log all parameters\n",
    "         mlflow.log_params(self.params)\n",
    "\n",
    "         # Train and fit the model\n",
    "         self.rf.fit(X_train, y_train)\n",
    "         y_pred = self.rf.predict(val_x)\n",
    "\n",
    "         # Compute metrics\n",
    "         self._mse = mean_squared_error(y_pred, val_y)\n",
    "         self._rsme = np.sqrt(self._mse)\n",
    "\n",
    "         if verbose:\n",
    "            print(\"Validation MSE: %d\" % self._mse)\n",
    "            print(\"Validation RMSE: %d\" % self._rsme)\n",
    "\n",
    "         # log params and metrics\n",
    "         mlflow.log_params(self.params)\n",
    "         mlflow.log_metric(\"mse\", self._mse)\n",
    "         mlflow.log_metric(\"rmse\", self._rsme)\n",
    "\n",
    "         # Specify the `registered_model_name` parameter of the\n",
    "         # function to register the model with the Model Registry. This automatically\n",
    "         # creates a new model version for each new run\n",
    "         mlflow.sklearn.log_model(\n",
    "            sk_model=self.model,\n",
    "            artifact_path=\"sklearn-model\",\n",
    "            registered_model_name=model_name) if register else mlflow.sklearn.log_model(\n",
    "               sk_model=self.model,\n",
    "               artifact_path=\"sklearn-model\")\n",
    "\n",
    "         run_id = run.info.run_id\n",
    "\n",
    "      return run_id"
   ]
  }
 ],
 "metadata": {
  "kernelspec": {
   "display_name": "Python 3",
   "language": "python",
   "name": "python3"
  },
  "language_info": {
   "codemirror_mode": {
    "name": "ipython",
    "version": 3
   },
   "file_extension": ".py",
   "mimetype": "text/x-python",
   "name": "python",
   "nbconvert_exporter": "python",
   "pygments_lexer": "ipython3",
   "version": "3.7.5"
  }
 },
 "nbformat": 4,
 "nbformat_minor": 4
}
