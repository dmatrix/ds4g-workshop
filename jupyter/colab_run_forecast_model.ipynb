{
 "cells": [
  {
   "cell_type": "markdown",
   "metadata": {},
   "source": [
    "# Machine learning application: Forecasting wind power\n",
    "\n",
    "<table>\n",
    "  <tr><td>\n",
    "    <img src=\"https://github.com/dmatrix/mlflow-workshop-part-3/raw/master/images/wind_farm.jpg\"\n",
    "         alt=\"Keras NN Model as Logistic regression\"  width=\"800\">\n",
    "  </td></tr>\n",
    "</table>\n",
    "\n",
    "In this notebook, we will use the MLflow Model Registry to build a machine learning application that forecasts the daily power output of a [wind farm](https://en.wikipedia.org/wiki/Wind_farm). \n",
    "\n",
    "Wind farm power output depends on weather conditions: generally, more energy is produced at higher wind speeds. Accordingly, the machine learning models used in the notebook predict power output based on weather forecasts with three features: `wind direction`, `wind speed`, and `air temperature`.\n",
    "\n",
    "*This notebook uses altered data from the [National WIND Toolkit dataset](https://www.nrel.gov/grid/wind-toolkit.html) provided by NREL, which is publicly available and cited as follows:*\n",
    "\n",
    "*Draxl, C., B.M. Hodge, A. Clifton, and J. McCaa. 2015. Overview and Meteorological Validation of the Wind Integration National Dataset Toolkit (Technical Report, NREL/TP-5000-61740). Golden, CO: National Renewable Energy Laboratory.*\n",
    "\n",
    "*Draxl, C., B.M. Hodge, A. Clifton, and J. McCaa. 2015. \"The Wind Integration National Dataset (WIND) Toolkit.\" Applied Energy 151: 355366.*\n",
    "\n",
    "*Lieberman-Cribbin, W., C. Draxl, and A. Clifton. 2014. Guide to Using the WIND Toolkit Validation Code (Technical Report, NREL/TP-5000-62595). Golden, CO: National Renewable Energy Laboratory.*\n",
    "\n",
    "*King, J., A. Clifton, and B.M. Hodge. 2014. Validation of Power Output for the WIND Toolkit (Technical Report, NREL/TP-5D00-61714). Golden, CO: National Renewable Energy Laboratory.*\n"
   ]
  },
  {
   "cell_type": "markdown",
   "metadata": {},
   "source": [
    "### Classes and Utility functions"
   ]
  },
  {
   "cell_type": "code",
   "execution_count": 1,
   "metadata": {},
   "outputs": [
    {
     "name": "stdout",
     "output_type": "stream",
     "text": [
      "Requirement already satisfied: mlflow in /Users/julesdamji/.conda/envs/tutorials/lib/python3.7/site-packages (1.11.0)\n",
      "Requirement already satisfied: gunicorn; platform_system != \"Windows\" in /Users/julesdamji/.conda/envs/tutorials/lib/python3.7/site-packages (from mlflow) (20.0.4)\n",
      "Requirement already satisfied: numpy in /Users/julesdamji/.conda/envs/tutorials/lib/python3.7/site-packages (from mlflow) (1.19.1)\n",
      "Requirement already satisfied: databricks-cli>=0.8.7 in /Users/julesdamji/.conda/envs/tutorials/lib/python3.7/site-packages (from mlflow) (0.9.1)\n",
      "Requirement already satisfied: prometheus-flask-exporter in /Users/julesdamji/.conda/envs/tutorials/lib/python3.7/site-packages (from mlflow) (0.16.0)\n",
      "Requirement already satisfied: sqlparse in /Users/julesdamji/.conda/envs/tutorials/lib/python3.7/site-packages (from mlflow) (0.3.1)\n",
      "Requirement already satisfied: alembic<=1.4.1 in /Users/julesdamji/.conda/envs/tutorials/lib/python3.7/site-packages (from mlflow) (1.4.1)\n",
      "Requirement already satisfied: python-dateutil in /Users/julesdamji/.conda/envs/tutorials/lib/python3.7/site-packages (from mlflow) (2.8.1)\n",
      "Requirement already satisfied: requests>=2.17.3 in /Users/julesdamji/.conda/envs/tutorials/lib/python3.7/site-packages (from mlflow) (2.24.0)\n",
      "Requirement already satisfied: Flask in /Users/julesdamji/.conda/envs/tutorials/lib/python3.7/site-packages (from mlflow) (1.1.2)\n",
      "Requirement already satisfied: pandas in /Users/julesdamji/.conda/envs/tutorials/lib/python3.7/site-packages (from mlflow) (1.1.1)\n",
      "Requirement already satisfied: pyyaml in /Users/julesdamji/.conda/envs/tutorials/lib/python3.7/site-packages (from mlflow) (5.3.1)\n",
      "Requirement already satisfied: protobuf>=3.6.0 in /Users/julesdamji/.conda/envs/tutorials/lib/python3.7/site-packages (from mlflow) (3.12.4)\n",
      "Requirement already satisfied: docker>=4.0.0 in /Users/julesdamji/.conda/envs/tutorials/lib/python3.7/site-packages (from mlflow) (4.3.1)\n",
      "Requirement already satisfied: six>=1.10.0 in /Users/julesdamji/.conda/envs/tutorials/lib/python3.7/site-packages (from mlflow) (1.15.0)\n",
      "Requirement already satisfied: querystring-parser in /Users/julesdamji/.conda/envs/tutorials/lib/python3.7/site-packages (from mlflow) (1.2.4)\n",
      "Requirement already satisfied: click>=7.0 in /Users/julesdamji/.conda/envs/tutorials/lib/python3.7/site-packages (from mlflow) (7.1.2)\n",
      "Requirement already satisfied: azure-storage-blob>=12.0 in /Users/julesdamji/.conda/envs/tutorials/lib/python3.7/site-packages (from mlflow) (12.4.0)\n",
      "Requirement already satisfied: gorilla in /Users/julesdamji/.conda/envs/tutorials/lib/python3.7/site-packages (from mlflow) (0.3.0)\n",
      "Requirement already satisfied: entrypoints in /Users/julesdamji/.conda/envs/tutorials/lib/python3.7/site-packages (from mlflow) (0.3)\n",
      "Requirement already satisfied: cloudpickle in /Users/julesdamji/.conda/envs/tutorials/lib/python3.7/site-packages (from mlflow) (1.6.0)\n",
      "Requirement already satisfied: gitpython>=2.1.0 in /Users/julesdamji/.conda/envs/tutorials/lib/python3.7/site-packages (from mlflow) (3.1.7)\n",
      "Requirement already satisfied: sqlalchemy<=1.3.13 in /Users/julesdamji/.conda/envs/tutorials/lib/python3.7/site-packages (from mlflow) (1.3.13)\n",
      "Requirement already satisfied: setuptools>=3.0 in /Users/julesdamji/.conda/envs/tutorials/lib/python3.7/site-packages (from gunicorn; platform_system != \"Windows\"->mlflow) (49.6.0.post20200814)\n",
      "Requirement already satisfied: tabulate>=0.7.7 in /Users/julesdamji/.conda/envs/tutorials/lib/python3.7/site-packages (from databricks-cli>=0.8.7->mlflow) (0.8.7)\n",
      "Requirement already satisfied: configparser>=0.3.5 in /Users/julesdamji/.conda/envs/tutorials/lib/python3.7/site-packages (from databricks-cli>=0.8.7->mlflow) (5.0.0)\n",
      "Requirement already satisfied: prometheus-client in /Users/julesdamji/.conda/envs/tutorials/lib/python3.7/site-packages (from prometheus-flask-exporter->mlflow) (0.8.0)\n",
      "Requirement already satisfied: python-editor>=0.3 in /Users/julesdamji/.conda/envs/tutorials/lib/python3.7/site-packages (from alembic<=1.4.1->mlflow) (1.0.4)\n",
      "Requirement already satisfied: Mako in /Users/julesdamji/.conda/envs/tutorials/lib/python3.7/site-packages (from alembic<=1.4.1->mlflow) (1.1.3)\n",
      "Requirement already satisfied: urllib3!=1.25.0,!=1.25.1,<1.26,>=1.21.1 in /Users/julesdamji/.conda/envs/tutorials/lib/python3.7/site-packages (from requests>=2.17.3->mlflow) (1.25.10)\n",
      "Requirement already satisfied: chardet<4,>=3.0.2 in /Users/julesdamji/.conda/envs/tutorials/lib/python3.7/site-packages (from requests>=2.17.3->mlflow) (3.0.4)\n",
      "Requirement already satisfied: certifi>=2017.4.17 in /Users/julesdamji/.conda/envs/tutorials/lib/python3.7/site-packages (from requests>=2.17.3->mlflow) (2020.6.20)\n",
      "Requirement already satisfied: idna<3,>=2.5 in /Users/julesdamji/.conda/envs/tutorials/lib/python3.7/site-packages (from requests>=2.17.3->mlflow) (2.10)\n",
      "Requirement already satisfied: Werkzeug>=0.15 in /Users/julesdamji/.conda/envs/tutorials/lib/python3.7/site-packages (from Flask->mlflow) (1.0.1)\n",
      "Requirement already satisfied: itsdangerous>=0.24 in /Users/julesdamji/.conda/envs/tutorials/lib/python3.7/site-packages (from Flask->mlflow) (1.1.0)\n",
      "Requirement already satisfied: Jinja2>=2.10.1 in /Users/julesdamji/.conda/envs/tutorials/lib/python3.7/site-packages (from Flask->mlflow) (2.11.2)\n",
      "Requirement already satisfied: pytz>=2017.2 in /Users/julesdamji/.conda/envs/tutorials/lib/python3.7/site-packages (from pandas->mlflow) (2020.1)\n",
      "Requirement already satisfied: websocket-client>=0.32.0 in /Users/julesdamji/.conda/envs/tutorials/lib/python3.7/site-packages (from docker>=4.0.0->mlflow) (0.57.0)\n",
      "Requirement already satisfied: cryptography>=2.1.4 in /Users/julesdamji/.conda/envs/tutorials/lib/python3.7/site-packages (from azure-storage-blob>=12.0->mlflow) (3.1)\n",
      "Requirement already satisfied: azure-core<2.0.0,>=1.6.0 in /Users/julesdamji/.conda/envs/tutorials/lib/python3.7/site-packages (from azure-storage-blob>=12.0->mlflow) (1.8.0)\n",
      "Requirement already satisfied: msrest>=0.6.10 in /Users/julesdamji/.conda/envs/tutorials/lib/python3.7/site-packages (from azure-storage-blob>=12.0->mlflow) (0.6.18)\n",
      "Requirement already satisfied: gitdb<5,>=4.0.1 in /Users/julesdamji/.conda/envs/tutorials/lib/python3.7/site-packages (from gitpython>=2.1.0->mlflow) (4.0.5)\n",
      "Requirement already satisfied: MarkupSafe>=0.9.2 in /Users/julesdamji/.conda/envs/tutorials/lib/python3.7/site-packages (from Mako->alembic<=1.4.1->mlflow) (1.1.1)\n",
      "Requirement already satisfied: cffi!=1.11.3,>=1.8 in /Users/julesdamji/.conda/envs/tutorials/lib/python3.7/site-packages (from cryptography>=2.1.4->azure-storage-blob>=12.0->mlflow) (1.14.1)\n",
      "Requirement already satisfied: requests-oauthlib>=0.5.0 in /Users/julesdamji/.conda/envs/tutorials/lib/python3.7/site-packages (from msrest>=0.6.10->azure-storage-blob>=12.0->mlflow) (1.3.0)\n",
      "Requirement already satisfied: isodate>=0.6.0 in /Users/julesdamji/.conda/envs/tutorials/lib/python3.7/site-packages (from msrest>=0.6.10->azure-storage-blob>=12.0->mlflow) (0.6.0)\n",
      "Requirement already satisfied: smmap<4,>=3.0.1 in /Users/julesdamji/.conda/envs/tutorials/lib/python3.7/site-packages (from gitdb<5,>=4.0.1->gitpython>=2.1.0->mlflow) (3.0.4)\n",
      "Requirement already satisfied: pycparser in /Users/julesdamji/.conda/envs/tutorials/lib/python3.7/site-packages (from cffi!=1.11.3,>=1.8->cryptography>=2.1.4->azure-storage-blob>=12.0->mlflow) (2.20)\n",
      "Requirement already satisfied: oauthlib>=3.0.0 in /Users/julesdamji/.conda/envs/tutorials/lib/python3.7/site-packages (from requests-oauthlib>=0.5.0->msrest>=0.6.10->azure-storage-blob>=12.0->mlflow) (3.1.0)\n"
     ]
    }
   ],
   "source": [
    "!pip install mlflow"
   ]
  },
  {
   "cell_type": "code",
   "execution_count": 2,
   "metadata": {},
   "outputs": [],
   "source": [
    "import pandas as pd\n",
    "import time\n",
    "import warnings\n",
    "from mlflow.tracking.client import MlflowClient\n",
    "from mlflow.entities.model_registry.model_version_status import ModelVersionStatus\n",
    "warnings.filterwarnings(\"ignore\")"
   ]
  },
  {
   "cell_type": "code",
   "execution_count": 3,
   "metadata": {},
   "outputs": [],
   "source": [
    "class Utils:\n",
    "  @staticmethod\n",
    "  def load_data(path, index_col=0):\n",
    "    df = pd.read_csv(path,index_col=0)\n",
    "    return df\n",
    "  \n",
    "  @staticmethod\n",
    "  def get_training_data(df):\n",
    "    # From 2014 through 2018 and drop the power column since that\n",
    "    # is our dependent variable\n",
    "    \n",
    "    training_data = pd.DataFrame(df[\"2014-01-01\":\"2018-01-01\"])\n",
    "    X = training_data.drop(columns=\"power\")\n",
    "    \n",
    "    # Get our dependent variable values\n",
    "    y = training_data[\"power\"]\n",
    "    return X, y\n",
    "\n",
    "  @staticmethod\n",
    "  def get_validation_data(df):\n",
    "    # From 2018 through 2019 and drop the power column since that\n",
    "    # our dependent variable\n",
    "    \n",
    "    validation_data = pd.DataFrame(df[\"2018-01-01\":\"2019-01-01\"])\n",
    "    X = validation_data.drop(columns=\"power\")\n",
    "    \n",
    "    # Get our dependent variable values\n",
    "    y = validation_data[\"power\"]\n",
    "    return X, y\n",
    "\n",
    "  @staticmethod\n",
    "  def get_weather_and_forecast(df):\n",
    "    format_date = lambda pd_date : pd_date.date().strftime(\"%Y-%m-%d\")\n",
    "    \n",
    "    # Get some time stamps\n",
    "    today = pd.Timestamp('today').normalize()\n",
    "    week_ago = today - pd.Timedelta(days=5)\n",
    "    week_later = today + pd.Timedelta(days=5)\n",
    "    \n",
    "    # Get past power output from a week ago to today\n",
    "    past_power_output = pd.DataFrame(df)[format_date(week_ago):format_date(today)]\n",
    "    \n",
    "    # Get weather and forewcast a week ago to today + a week later\n",
    "    weather_and_forecast = pd.DataFrame(df)[format_date(week_ago):format_date(week_later)]\n",
    "    if len(weather_and_forecast) < 10:\n",
    "      # Get last 5 rows and 10 columns\n",
    "      past_power_output = pd.DataFrame(df).iloc[-10:-5]\n",
    "      # Get last 10 rows and 10 columns\n",
    "      weather_and_forecast = pd.DataFrame(df).iloc[-10:]\n",
    "\n",
    "    return weather_and_forecast.drop(columns=\"power\"), past_power_output[\"power\"]"
   ]
  },
  {
   "cell_type": "code",
   "execution_count": 4,
   "metadata": {},
   "outputs": [],
   "source": [
    "import pandas as pd\n",
    "import matplotlib.dates as mdates\n",
    "from matplotlib import pyplot as plt"
   ]
  },
  {
   "cell_type": "code",
   "execution_count": 5,
   "metadata": {},
   "outputs": [],
   "source": [
    "class PlotUtils:\n",
    "    @staticmethod\n",
    "    def plot(model_uri, power_predictions, past_power_output):\n",
    "      index = power_predictions.index\n",
    "      fig = plt.figure(figsize=(11, 7))\n",
    "      ax = fig.add_subplot(111)\n",
    "      ax.set_xlabel(\"Date\", size=20, labelpad=20)\n",
    "      ax.set_ylabel(\"Power\\noutput\\n(MW)\", size=20, labelpad=60, rotation=0)\n",
    "      ax.tick_params(axis='both', which='major', labelsize=17)\n",
    "      ax.xaxis.set_major_formatter(mdates.DateFormatter('%m/%d'))\n",
    "      ax.plot(index[:len(past_power_output)], past_power_output, label=\"True\", color=\"red\", alpha=0.5, linewidth=4)\n",
    "      ax.plot(index, power_predictions, \"--\", label=\"Predicted by {}\".format(model_uri), color=\"blue\", linewidth=3)\n",
    "      ax.set_ylim(ymin=0, ymax=max(3500, int(max(power_predictions.values) * 1.3)))\n",
    "      ax.legend(fontsize=14)\n",
    "      plt.title(\"Wind farm power output and projections\", size=24, pad=20)\n",
    "      plt.tight_layout()\n",
    "      display(plt.show())\n",
    "      \n",
    "    @staticmethod\n",
    "    def forecast_power(model_uri, wind_farm_data):\n",
    "      '''\n",
    "      Function that loads a pyfunc flavor of the model, predicts with unseen data\n",
    "      and compares with actual forecast. \n",
    "      '''\n",
    "      print(\"Loading registered model version from URI: '{model_uri}'\".format(model_uri=model_uri))\n",
    "      model = mlflow.pyfunc.load_model(model_uri)\n",
    "      weather_data, past_power_output = Utils.get_weather_and_forecast(wind_farm_data)\n",
    "      \n",
    "      # Score our model\n",
    "      power_predictions = pd.DataFrame(model.predict(weather_data))\n",
    "      power_predictions.index = pd.to_datetime(weather_data.index)\n",
    "      PlotUtils.plot(model_uri, power_predictions, past_power_output)"
   ]
  },
  {
   "cell_type": "code",
   "execution_count": 6,
   "metadata": {},
   "outputs": [
    {
     "name": "stdout",
     "output_type": "stream",
     "text": [
      "Using mlflow version 1.11.0\n"
     ]
    }
   ],
   "source": [
    "import mlflow\n",
    "\n",
    "print(\"Using mlflow version {}\".format(mlflow.__version__))"
   ]
  },
  {
   "cell_type": "code",
   "execution_count": 7,
   "metadata": {},
   "outputs": [],
   "source": [
    "import mlflow.sklearn\n",
    "import numpy as np\n",
    "from sklearn.ensemble import RandomForestRegressor\n",
    "from sklearn.metrics import mean_squared_error"
   ]
  },
  {
   "cell_type": "code",
   "execution_count": 8,
   "metadata": {},
   "outputs": [],
   "source": [
    "class RFRModel():\n",
    "   def __init__(self, params={}):\n",
    "      self.rf = RandomForestRegressor(**params)\n",
    "      self.params = params\n",
    "      self._mse = None\n",
    "      self._rsme = None\n",
    "\n",
    "   @classmethod\n",
    "   def new_instance(cls, params={}):\n",
    "      return cls(params)\n",
    "\n",
    "   @property\n",
    "   def model(self):\n",
    "      return self.rf\n",
    "\n",
    "   @property\n",
    "   def mse(self):\n",
    "      return self._mse\n",
    "\n",
    "   @mse.setter\n",
    "   def mse(self, value):\n",
    "      self._mse = value\n",
    "\n",
    "   @property\n",
    "   def rsme(self):\n",
    "      return self._rsme\n",
    "\n",
    "   @rsme.setter\n",
    "   def rsme(self, value):\n",
    "      self._rsme = value\n",
    "\n",
    "   def mlflow_run(self, X_train, y_train, val_x, val_y, model_name,\n",
    "                  run_name=\"Random Forest Regressor: Power Forecasting Model\",\n",
    "                  register=False, verbose=False):\n",
    "      with mlflow.start_run(run_name=run_name) as run:\n",
    "         # Log all parameters\n",
    "         mlflow.log_params(self.params)\n",
    "\n",
    "         # Train and fit the model\n",
    "         self.rf.fit(X_train, y_train)\n",
    "         y_pred = self.rf.predict(val_x)\n",
    "\n",
    "         # Compute metrics\n",
    "         self._mse = mean_squared_error(y_pred, val_y)\n",
    "         self._rsme = np.sqrt(self._mse)\n",
    "\n",
    "         if verbose:\n",
    "            print(\"Validation MSE: %d\" % self._mse)\n",
    "            print(\"Validation RMSE: %d\" % self._rsme)\n",
    "\n",
    "         # log params and metrics\n",
    "         mlflow.log_params(self.params)\n",
    "         mlflow.log_metric(\"mse\", self._mse)\n",
    "         mlflow.log_metric(\"rmse\", self._rsme)\n",
    "\n",
    "         # Specify the `registered_model_name` parameter of the\n",
    "         # function to register the model with the Model Registry. This automatically\n",
    "         # creates a new model version for each new run\n",
    "         mlflow.sklearn.log_model(\n",
    "            sk_model=self.model,\n",
    "            artifact_path=\"sklearn-model\",\n",
    "            registered_model_name=model_name) if register else mlflow.sklearn.log_model(\n",
    "               sk_model=self.model,\n",
    "               artifact_path=\"sklearn-model\")\n",
    "\n",
    "         run_id = run.info.run_id\n",
    "\n",
    "      return run_id"
   ]
  },
  {
   "cell_type": "code",
   "execution_count": 9,
   "metadata": {},
   "outputs": [],
   "source": [
    "csv_path = \"https://raw.githubusercontent.com/dmatrix/mlflow-workshop-part-3/master/src/data/windfarm_data.csv\"\n",
    "wind_farm_data = Utils.load_data(csv_path, index_col=0)\n",
    "model_name=\"PowerForecastingModel\""
   ]
  },
  {
   "cell_type": "code",
   "execution_count": 10,
   "metadata": {},
   "outputs": [
    {
     "data": {
      "text/html": [
       "<div>\n",
       "<style scoped>\n",
       "    .dataframe tbody tr th:only-of-type {\n",
       "        vertical-align: middle;\n",
       "    }\n",
       "\n",
       "    .dataframe tbody tr th {\n",
       "        vertical-align: top;\n",
       "    }\n",
       "\n",
       "    .dataframe thead th {\n",
       "        text-align: right;\n",
       "    }\n",
       "</style>\n",
       "<table border=\"1\" class=\"dataframe\">\n",
       "  <thead>\n",
       "    <tr style=\"text-align: right;\">\n",
       "      <th></th>\n",
       "      <th>temperature_00</th>\n",
       "      <th>wind_direction_00</th>\n",
       "      <th>wind_speed_00</th>\n",
       "      <th>temperature_08</th>\n",
       "      <th>wind_direction_08</th>\n",
       "      <th>wind_speed_08</th>\n",
       "      <th>temperature_16</th>\n",
       "      <th>wind_direction_16</th>\n",
       "      <th>wind_speed_16</th>\n",
       "      <th>power</th>\n",
       "    </tr>\n",
       "  </thead>\n",
       "  <tbody>\n",
       "    <tr>\n",
       "      <th>2014-01-01</th>\n",
       "      <td>4.702022</td>\n",
       "      <td>106.742590</td>\n",
       "      <td>4.743292</td>\n",
       "      <td>7.189482</td>\n",
       "      <td>100.41638</td>\n",
       "      <td>6.593832</td>\n",
       "      <td>8.172301</td>\n",
       "      <td>99.28800</td>\n",
       "      <td>5.967206</td>\n",
       "      <td>1959.3535</td>\n",
       "    </tr>\n",
       "    <tr>\n",
       "      <th>2014-01-02</th>\n",
       "      <td>7.695733</td>\n",
       "      <td>98.036705</td>\n",
       "      <td>6.142715</td>\n",
       "      <td>9.977118</td>\n",
       "      <td>94.03181</td>\n",
       "      <td>4.383676</td>\n",
       "      <td>9.690135</td>\n",
       "      <td>204.25444</td>\n",
       "      <td>1.696528</td>\n",
       "      <td>1266.6239</td>\n",
       "    </tr>\n",
       "    <tr>\n",
       "      <th>2014-01-03</th>\n",
       "      <td>9.608235</td>\n",
       "      <td>274.061200</td>\n",
       "      <td>10.514304</td>\n",
       "      <td>10.840864</td>\n",
       "      <td>242.87563</td>\n",
       "      <td>16.869741</td>\n",
       "      <td>8.991079</td>\n",
       "      <td>250.26830</td>\n",
       "      <td>12.038399</td>\n",
       "      <td>7545.6797</td>\n",
       "    </tr>\n",
       "    <tr>\n",
       "      <th>2014-01-04</th>\n",
       "      <td>6.955563</td>\n",
       "      <td>257.910220</td>\n",
       "      <td>7.189170</td>\n",
       "      <td>5.317223</td>\n",
       "      <td>254.26170</td>\n",
       "      <td>9.069233</td>\n",
       "      <td>3.021174</td>\n",
       "      <td>284.06537</td>\n",
       "      <td>4.590843</td>\n",
       "      <td>3791.0408</td>\n",
       "    </tr>\n",
       "    <tr>\n",
       "      <th>2014-01-05</th>\n",
       "      <td>0.830547</td>\n",
       "      <td>265.394400</td>\n",
       "      <td>4.263086</td>\n",
       "      <td>2.480239</td>\n",
       "      <td>104.79496</td>\n",
       "      <td>3.042063</td>\n",
       "      <td>4.227131</td>\n",
       "      <td>263.41690</td>\n",
       "      <td>3.899182</td>\n",
       "      <td>880.6115</td>\n",
       "    </tr>\n",
       "  </tbody>\n",
       "</table>\n",
       "</div>"
      ],
      "text/plain": [
       "            temperature_00  wind_direction_00  wind_speed_00  temperature_08  \\\n",
       "2014-01-01        4.702022         106.742590       4.743292        7.189482   \n",
       "2014-01-02        7.695733          98.036705       6.142715        9.977118   \n",
       "2014-01-03        9.608235         274.061200      10.514304       10.840864   \n",
       "2014-01-04        6.955563         257.910220       7.189170        5.317223   \n",
       "2014-01-05        0.830547         265.394400       4.263086        2.480239   \n",
       "\n",
       "            wind_direction_08  wind_speed_08  temperature_16  \\\n",
       "2014-01-01          100.41638       6.593832        8.172301   \n",
       "2014-01-02           94.03181       4.383676        9.690135   \n",
       "2014-01-03          242.87563      16.869741        8.991079   \n",
       "2014-01-04          254.26170       9.069233        3.021174   \n",
       "2014-01-05          104.79496       3.042063        4.227131   \n",
       "\n",
       "            wind_direction_16  wind_speed_16      power  \n",
       "2014-01-01           99.28800       5.967206  1959.3535  \n",
       "2014-01-02          204.25444       1.696528  1266.6239  \n",
       "2014-01-03          250.26830      12.038399  7545.6797  \n",
       "2014-01-04          284.06537       4.590843  3791.0408  \n",
       "2014-01-05          263.41690       3.899182   880.6115  "
      ]
     },
     "execution_count": 10,
     "metadata": {},
     "output_type": "execute_result"
    }
   ],
   "source": [
    "wind_farm_data.head(5)"
   ]
  },
  {
   "cell_type": "code",
   "execution_count": 11,
   "metadata": {},
   "outputs": [],
   "source": [
    "X_train, y_train = Utils.get_training_data(wind_farm_data)\n",
    "X_val, y_val = Utils.get_validation_data(wind_farm_data)"
   ]
  },
  {
   "cell_type": "code",
   "execution_count": 12,
   "metadata": {},
   "outputs": [],
   "source": [
    "# Use sqlite:///mlruns.db as the local store for tracking and registery\n",
    "mlflow.set_tracking_uri(\"sqlite:///mlruns.db\")"
   ]
  },
  {
   "cell_type": "code",
   "execution_count": 13,
   "metadata": {},
   "outputs": [],
   "source": [
    "params_list = [\n",
    "        {\"n_estimators\": 100, \"max_depth\": 10},\n",
    "        {\"n_estimators\": 200,\"max_depth\": 15},\n",
    "        {\"n_estimators\": 300, \"max_depth\": 20 }]"
   ]
  },
  {
   "cell_type": "code",
   "execution_count": 16,
   "metadata": {},
   "outputs": [
    {
     "name": "stdout",
     "output_type": "stream",
     "text": [
      "Using paramerts={'n_estimators': 100, 'max_depth': 10}\n"
     ]
    },
    {
     "name": "stderr",
     "output_type": "stream",
     "text": [
      "Registered model 'PowerForecastingModel' already exists. Creating a new version of this model...\n",
      "Created version '4' of model 'PowerForecastingModel'.\n"
     ]
    },
    {
     "name": "stdout",
     "output_type": "stream",
     "text": [
      "MLflow run_id=355a53a8c6004617bb060c1d47c6dd70 completed with MSE=44966.069537969095 and RMSE=212.05204440884106\n",
      "Using paramerts={'n_estimators': 200, 'max_depth': 15}\n"
     ]
    },
    {
     "name": "stderr",
     "output_type": "stream",
     "text": [
      "Registered model 'PowerForecastingModel' already exists. Creating a new version of this model...\n",
      "Created version '5' of model 'PowerForecastingModel'.\n"
     ]
    },
    {
     "name": "stdout",
     "output_type": "stream",
     "text": [
      "MLflow run_id=7b3d0912f8ea45a5ade8324abe025e25 completed with MSE=44556.14904174119 and RMSE=211.08327513505466\n",
      "Using paramerts={'n_estimators': 300, 'max_depth': 20}\n",
      "MLflow run_id=bcd6c279bc344aee8576a9c7efc45cb1 completed with MSE=45279.499866465354 and RMSE=212.78980207346723\n"
     ]
    },
    {
     "name": "stderr",
     "output_type": "stream",
     "text": [
      "Registered model 'PowerForecastingModel' already exists. Creating a new version of this model...\n",
      "Created version '6' of model 'PowerForecastingModel'.\n"
     ]
    }
   ],
   "source": [
    "# Train, fit and register our model and iterate over few different tuning parameters\n",
    "model_name = \"PowerForecastingModel\"\n",
    "for params in params_list:\n",
    "  rfr = RFRModel.new_instance(params)\n",
    "  print(\"Using paramerts={}\".format(params))\n",
    "  runID = rfr.mlflow_run(X_train, y_train, X_val, y_val, model_name, register=True)\n",
    "  print(\"MLflow run_id={} completed with MSE={} and RMSE={}\".format(runID, rfr.mse, rfr.rsme))"
   ]
  },
  {
   "cell_type": "code",
   "execution_count": 17,
   "metadata": {},
   "outputs": [],
   "source": [
    "get_ipython().system_raw(\"mlflow ui --backend-store-uri sqlite:///mlruns.db --port 5000 &\")# run tracking UI in the background"
   ]
  },
  {
   "cell_type": "code",
   "execution_count": 31,
   "metadata": {},
   "outputs": [
    {
     "name": "stderr",
     "output_type": "stream",
     "text": [
      "INFO  [alembic.runtime.migration] Context impl SQLiteImpl.\n",
      "INFO  [alembic.runtime.migration] Will assume non-transactional DDL.\n"
     ]
    },
    {
     "name": "stdout",
     "output_type": "stream",
     "text": [
      "Loading registered model version from URI: 'models:/PowerForecastingModel/production'\n"
     ]
    }
   ],
   "source": [
    "import mlflow.pyfunc\n",
    "model_staging_uri = \"models:/{model_name}/production\".format(model_name=model_name)\n",
    "\n",
    "print(\"Loading registered model version from URI: '{model_uri}'\".format(model_uri=model_staging_uri))\n",
    "model_production = mlflow.pyfunc.load_model(model_staging_uri)"
   ]
  },
  {
   "cell_type": "code",
   "execution_count": 37,
   "metadata": {},
   "outputs": [
    {
     "data": {
      "text/html": [
       "<div>\n",
       "<style scoped>\n",
       "    .dataframe tbody tr th:only-of-type {\n",
       "        vertical-align: middle;\n",
       "    }\n",
       "\n",
       "    .dataframe tbody tr th {\n",
       "        vertical-align: top;\n",
       "    }\n",
       "\n",
       "    .dataframe thead th {\n",
       "        text-align: right;\n",
       "    }\n",
       "</style>\n",
       "<table border=\"1\" class=\"dataframe\">\n",
       "  <thead>\n",
       "    <tr style=\"text-align: right;\">\n",
       "      <th></th>\n",
       "      <th>temperature_00</th>\n",
       "      <th>wind_direction_00</th>\n",
       "      <th>wind_speed_00</th>\n",
       "      <th>temperature_08</th>\n",
       "      <th>wind_direction_08</th>\n",
       "      <th>wind_speed_08</th>\n",
       "      <th>temperature_16</th>\n",
       "      <th>wind_direction_16</th>\n",
       "      <th>wind_speed_16</th>\n",
       "      <th>power</th>\n",
       "    </tr>\n",
       "  </thead>\n",
       "  <tbody>\n",
       "    <tr>\n",
       "      <th>2020-12-27</th>\n",
       "      <td>7.123225</td>\n",
       "      <td>103.176630</td>\n",
       "      <td>8.133746</td>\n",
       "      <td>6.454002</td>\n",
       "      <td>107.793220</td>\n",
       "      <td>6.326991</td>\n",
       "      <td>7.219884</td>\n",
       "      <td>119.070526</td>\n",
       "      <td>3.062219</td>\n",
       "      <td>2621.4760</td>\n",
       "    </tr>\n",
       "    <tr>\n",
       "      <th>2020-12-28</th>\n",
       "      <td>5.376270</td>\n",
       "      <td>118.084330</td>\n",
       "      <td>5.558247</td>\n",
       "      <td>8.118839</td>\n",
       "      <td>116.193535</td>\n",
       "      <td>8.565966</td>\n",
       "      <td>9.307176</td>\n",
       "      <td>120.264430</td>\n",
       "      <td>11.993913</td>\n",
       "      <td>5423.6250</td>\n",
       "    </tr>\n",
       "    <tr>\n",
       "      <th>2020-12-29</th>\n",
       "      <td>8.593436</td>\n",
       "      <td>115.432590</td>\n",
       "      <td>12.181850</td>\n",
       "      <td>8.587968</td>\n",
       "      <td>112.931360</td>\n",
       "      <td>11.970859</td>\n",
       "      <td>8.956771</td>\n",
       "      <td>110.161095</td>\n",
       "      <td>11.301485</td>\n",
       "      <td>9132.1150</td>\n",
       "    </tr>\n",
       "    <tr>\n",
       "      <th>2020-12-30</th>\n",
       "      <td>8.069033</td>\n",
       "      <td>103.169685</td>\n",
       "      <td>9.983466</td>\n",
       "      <td>7.930485</td>\n",
       "      <td>106.045510</td>\n",
       "      <td>6.381556</td>\n",
       "      <td>8.228901</td>\n",
       "      <td>111.602160</td>\n",
       "      <td>4.087358</td>\n",
       "      <td>3667.9927</td>\n",
       "    </tr>\n",
       "  </tbody>\n",
       "</table>\n",
       "</div>"
      ],
      "text/plain": [
       "            temperature_00  wind_direction_00  wind_speed_00  temperature_08  \\\n",
       "2020-12-27        7.123225         103.176630       8.133746        6.454002   \n",
       "2020-12-28        5.376270         118.084330       5.558247        8.118839   \n",
       "2020-12-29        8.593436         115.432590      12.181850        8.587968   \n",
       "2020-12-30        8.069033         103.169685       9.983466        7.930485   \n",
       "\n",
       "            wind_direction_08  wind_speed_08  temperature_16  \\\n",
       "2020-12-27         107.793220       6.326991        7.219884   \n",
       "2020-12-28         116.193535       8.565966        9.307176   \n",
       "2020-12-29         112.931360      11.970859        8.956771   \n",
       "2020-12-30         106.045510       6.381556        8.228901   \n",
       "\n",
       "            wind_direction_16  wind_speed_16      power  \n",
       "2020-12-27         119.070526       3.062219  2621.4760  \n",
       "2020-12-28         120.264430      11.993913  5423.6250  \n",
       "2020-12-29         110.161095      11.301485  9132.1150  \n",
       "2020-12-30         111.602160       4.087358  3667.9927  "
      ]
     },
     "execution_count": 37,
     "metadata": {},
     "output_type": "execute_result"
    }
   ],
   "source": [
    "# Load test data\n",
    "score_weather_cvs = \"data/score_windfarm_data.csv\"\n",
    "score_df = Utils.load_data(score_weather_cvs,index_col=0)\n",
    "score_df.head()"
   ]
  },
  {
   "cell_type": "code",
   "execution_count": 36,
   "metadata": {},
   "outputs": [
    {
     "name": "stdout",
     "output_type": "stream",
     "text": [
      "[2801.430854   5112.81041533 8761.61678367 3800.698117  ]\n"
     ]
    }
   ],
   "source": [
    "score_df = score_df.drop(columns=[\"power\"])\n",
    "predictions = model_production.predict(score_df)\n",
    "print(predictions)"
   ]
  }
 ],
 "metadata": {
  "kernelspec": {
   "display_name": "Python 3",
   "language": "python",
   "name": "python3"
  },
  "language_info": {
   "codemirror_mode": {
    "name": "ipython",
    "version": 3
   },
   "file_extension": ".py",
   "mimetype": "text/x-python",
   "name": "python",
   "nbconvert_exporter": "python",
   "pygments_lexer": "ipython3",
   "version": "3.7.5"
  }
 },
 "nbformat": 4,
 "nbformat_minor": 4
}
